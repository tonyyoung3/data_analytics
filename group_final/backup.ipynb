{
 "cells": [
  {
   "cell_type": "markdown",
   "id": "247feb35",
   "metadata": {},
   "source": [
    "## BAIT 509 - Final Group Assignment\n",
    "\n",
    "### Group Members (Group 22)\n",
    "\n",
    "### - Michelle LEE\n",
    "### - Gagan Singh\n",
    "### - Kaustubh Pandit\n",
    "### - JEN- HSIANG YANG\n",
    "\n",
    "\n",
    "### Dataset Overview:\n",
    "***In the bustling metropolis of Mumbai, India, where the real estate market echoes the heartbeat of the city, our project dives into a dataset that encapsulates the essence of the property landscape. Comprising details on residential properties, including apartments and houses, this dataset unfolds the narrative of Mumbai's housing market. Key attributes such as the number of bedrooms, property type, locality, size, price, and more, serve as the threads weaving this intricate tapestry.***\n",
    "\n",
    "### Motivation:\n",
    "****The driving force behind our exploration lies in the inherent challenges faced by both buyers and sellers in Mumbai's bustling real estate scene. With properties ranging from apartments to villas, each equipped with distinctive attributes, understanding the factors influencing house prices becomes imperative. This predictive model aims to empower stakeholders with valuable insights, facilitating informed decisions in this high-stakes domain.****\n",
    "\n",
    "### Business Question:\n",
    "***In response to the intricacies of Mumbai's real estate landscape, our business question is poised to tackle the heart of the matter: Can we construct a robust supervised learning model capable of accurately predicting house prices? By delving into the features embedded in property listings, including the number of bedrooms, property type, locality, size, and other pertinent details, our aim is to equip our client with a predictive tool that transcends the uncertainties of the market.***\n",
    "\n",
    "***This question crystallizes the overarching objective of our project: to harness the power of machine learning in deciphering the nuanced relationships between property features and prices, ultimately providing a valuable tool for navigating the intricate world of Mumbai's real estate.***"
   ]
  },
  {
   "cell_type": "markdown",
   "id": "7fac5e94",
   "metadata": {},
   "source": [
    "### Import Neccessary Packages"
   ]
  },
  {
   "cell_type": "code",
   "execution_count": 147,
   "id": "8c59ae00",
   "metadata": {},
   "outputs": [],
   "source": [
    "import pandas as pd\n",
    "import numpy as np\n",
    "from sklearn.pipeline import Pipeline\n",
    "from sklearn.preprocessing import StandardScaler\n",
    "from sklearn.model_selection import cross_validate, train_test_split\n",
    "from sklearn.dummy import DummyClassifier\n",
    "from sklearn.dummy import DummyRegressor\n",
    "from sklearn.tree import DecisionTreeClassifier\n",
    "import altair as alt\n",
    "from sklearn.metrics.pairwise import euclidean_distances\n",
    "from sklearn.neighbors import NearestNeighbors\n",
    "from sklearn.neighbors import KNeighborsClassifier\n",
    "import warnings\n",
    "warnings.filterwarnings('ignore')\n",
    "from sklearn.impute import SimpleImputer\n",
    "from sklearn.preprocessing import OneHotEncoder\n",
    "from sklearn.compose import ColumnTransformer\n",
    "from sklearn.linear_model import LogisticRegression\n"
   ]
  },
  {
   "cell_type": "markdown",
   "id": "59f05c2c",
   "metadata": {},
   "source": [
    "## Data Preprocessing:"
   ]
  },
  {
   "cell_type": "code",
   "execution_count": 86,
   "id": "eefab935-d772-438a-aa3d-945c2c2b1bb3",
   "metadata": {},
   "outputs": [
    {
     "data": {
      "text/html": [
       "<div>\n",
       "<style scoped>\n",
       "    .dataframe tbody tr th:only-of-type {\n",
       "        vertical-align: middle;\n",
       "    }\n",
       "\n",
       "    .dataframe tbody tr th {\n",
       "        vertical-align: top;\n",
       "    }\n",
       "\n",
       "    .dataframe thead th {\n",
       "        text-align: right;\n",
       "    }\n",
       "</style>\n",
       "<table border=\"1\" class=\"dataframe\">\n",
       "  <thead>\n",
       "    <tr style=\"text-align: right;\">\n",
       "      <th></th>\n",
       "      <th>ID</th>\n",
       "      <th>Possession Status</th>\n",
       "      <th>Availability Starts From</th>\n",
       "      <th>Floor No</th>\n",
       "      <th>Commercial</th>\n",
       "      <th>Developer</th>\n",
       "      <th>Approved Authority Name</th>\n",
       "      <th>Units Available</th>\n",
       "      <th>Price</th>\n",
       "      <th>Price (English)</th>\n",
       "      <th>...</th>\n",
       "      <th>Rentable CommuniPfty Space</th>\n",
       "      <th>Retail Boulevard (Retail Shops)</th>\n",
       "      <th>Cycling &amp; Jogging Track</th>\n",
       "      <th>Fire Fighting Equipment</th>\n",
       "      <th>Aesthetically designed landscape garden</th>\n",
       "      <th>Possession By</th>\n",
       "      <th>NRI Pref</th>\n",
       "      <th>Land Area / Covered Area</th>\n",
       "      <th>Land Area Unit</th>\n",
       "      <th>Pantry Type</th>\n",
       "    </tr>\n",
       "  </thead>\n",
       "  <tbody>\n",
       "    <tr>\n",
       "      <th>0</th>\n",
       "      <td>12685</td>\n",
       "      <td>Under Construction</td>\n",
       "      <td>Dec '25</td>\n",
       "      <td>5</td>\n",
       "      <td>N</td>\n",
       "      <td>NaN</td>\n",
       "      <td>KDMC</td>\n",
       "      <td>1.0</td>\n",
       "      <td>3150000.0</td>\n",
       "      <td>31.5 Lac</td>\n",
       "      <td>...</td>\n",
       "      <td>1</td>\n",
       "      <td>1</td>\n",
       "      <td>1</td>\n",
       "      <td>1</td>\n",
       "      <td>1</td>\n",
       "      <td>NaN</td>\n",
       "      <td>NaN</td>\n",
       "      <td>NaN</td>\n",
       "      <td>NaN</td>\n",
       "      <td>NaN</td>\n",
       "    </tr>\n",
       "    <tr>\n",
       "      <th>1</th>\n",
       "      <td>12684</td>\n",
       "      <td>Ready to Move</td>\n",
       "      <td>NaN</td>\n",
       "      <td>20</td>\n",
       "      <td>Y</td>\n",
       "      <td>TATA Housing Development Company Ltd.</td>\n",
       "      <td>TMC</td>\n",
       "      <td>10.0</td>\n",
       "      <td>6300000.0</td>\n",
       "      <td>63 Lac</td>\n",
       "      <td>...</td>\n",
       "      <td>1</td>\n",
       "      <td>1</td>\n",
       "      <td>1</td>\n",
       "      <td>1</td>\n",
       "      <td>1</td>\n",
       "      <td>NaN</td>\n",
       "      <td>NaN</td>\n",
       "      <td>NaN</td>\n",
       "      <td>NaN</td>\n",
       "      <td>NaN</td>\n",
       "    </tr>\n",
       "    <tr>\n",
       "      <th>2</th>\n",
       "      <td>12683</td>\n",
       "      <td>Ready to Move</td>\n",
       "      <td>NaN</td>\n",
       "      <td>18</td>\n",
       "      <td>N</td>\n",
       "      <td>Sai Satyam Developers</td>\n",
       "      <td>KDMC</td>\n",
       "      <td>0.0</td>\n",
       "      <td>5400000.0</td>\n",
       "      <td>54 Lac</td>\n",
       "      <td>...</td>\n",
       "      <td>1</td>\n",
       "      <td>1</td>\n",
       "      <td>1</td>\n",
       "      <td>1</td>\n",
       "      <td>1</td>\n",
       "      <td>NaN</td>\n",
       "      <td>Y</td>\n",
       "      <td>NaN</td>\n",
       "      <td>NaN</td>\n",
       "      <td>NaN</td>\n",
       "    </tr>\n",
       "    <tr>\n",
       "      <th>3</th>\n",
       "      <td>12682</td>\n",
       "      <td>Under Construction</td>\n",
       "      <td>Dec '25</td>\n",
       "      <td>5</td>\n",
       "      <td>N</td>\n",
       "      <td>Birla Estates</td>\n",
       "      <td>KDMC</td>\n",
       "      <td>70.0</td>\n",
       "      <td>9000000.0</td>\n",
       "      <td>90 Lac</td>\n",
       "      <td>...</td>\n",
       "      <td>1</td>\n",
       "      <td>1</td>\n",
       "      <td>1</td>\n",
       "      <td>1</td>\n",
       "      <td>1</td>\n",
       "      <td>NaN</td>\n",
       "      <td>NaN</td>\n",
       "      <td>NaN</td>\n",
       "      <td>NaN</td>\n",
       "      <td>NaN</td>\n",
       "    </tr>\n",
       "    <tr>\n",
       "      <th>4</th>\n",
       "      <td>12681</td>\n",
       "      <td>Under Construction</td>\n",
       "      <td>Dec '24</td>\n",
       "      <td>8</td>\n",
       "      <td>Y</td>\n",
       "      <td>Godrej Properties</td>\n",
       "      <td>NaN</td>\n",
       "      <td>NaN</td>\n",
       "      <td>4950000.0</td>\n",
       "      <td>49.5 Lac</td>\n",
       "      <td>...</td>\n",
       "      <td>1</td>\n",
       "      <td>1</td>\n",
       "      <td>1</td>\n",
       "      <td>1</td>\n",
       "      <td>1</td>\n",
       "      <td>NaN</td>\n",
       "      <td>NaN</td>\n",
       "      <td>NaN</td>\n",
       "      <td>NaN</td>\n",
       "      <td>NaN</td>\n",
       "    </tr>\n",
       "  </tbody>\n",
       "</table>\n",
       "<p>5 rows × 145 columns</p>\n",
       "</div>"
      ],
      "text/plain": [
       "      ID   Possession Status Availability Starts From Floor No Commercial  \\\n",
       "0  12685  Under Construction                  Dec '25        5          N   \n",
       "1  12684       Ready to Move                      NaN       20          Y   \n",
       "2  12683       Ready to Move                      NaN       18          N   \n",
       "3  12682  Under Construction                  Dec '25        5          N   \n",
       "4  12681  Under Construction                  Dec '24        8          Y   \n",
       "\n",
       "                               Developer Approved Authority Name  \\\n",
       "0                                    NaN                    KDMC   \n",
       "1  TATA Housing Development Company Ltd.                     TMC   \n",
       "2                  Sai Satyam Developers                    KDMC   \n",
       "3                          Birla Estates                    KDMC   \n",
       "4                      Godrej Properties                     NaN   \n",
       "\n",
       "   Units Available      Price Price (English)  ... Rentable CommuniPfty Space  \\\n",
       "0              1.0  3150000.0        31.5 Lac  ...                          1   \n",
       "1             10.0  6300000.0          63 Lac  ...                          1   \n",
       "2              0.0  5400000.0          54 Lac  ...                          1   \n",
       "3             70.0  9000000.0          90 Lac  ...                          1   \n",
       "4              NaN  4950000.0        49.5 Lac  ...                          1   \n",
       "\n",
       "  Retail Boulevard (Retail Shops) Cycling & Jogging Track  \\\n",
       "0                               1                       1   \n",
       "1                               1                       1   \n",
       "2                               1                       1   \n",
       "3                               1                       1   \n",
       "4                               1                       1   \n",
       "\n",
       "   Fire Fighting Equipment  Aesthetically designed landscape garden  \\\n",
       "0                        1                                        1   \n",
       "1                        1                                        1   \n",
       "2                        1                                        1   \n",
       "3                        1                                        1   \n",
       "4                        1                                        1   \n",
       "\n",
       "  Possession By  NRI Pref Land Area / Covered Area  Land Area Unit  \\\n",
       "0           NaN       NaN                      NaN             NaN   \n",
       "1           NaN       NaN                      NaN             NaN   \n",
       "2           NaN         Y                      NaN             NaN   \n",
       "3           NaN       NaN                      NaN             NaN   \n",
       "4           NaN       NaN                      NaN             NaN   \n",
       "\n",
       "   Pantry Type  \n",
       "0          NaN  \n",
       "1          NaN  \n",
       "2          NaN  \n",
       "3          NaN  \n",
       "4          NaN  \n",
       "\n",
       "[5 rows x 145 columns]"
      ]
     },
     "execution_count": 86,
     "metadata": {},
     "output_type": "execute_result"
    }
   ],
   "source": [
    "#Read the CSV file\n",
    "data = pd.read_csv('properties.csv')\n",
    "\n",
    "#Display the first few rows of the DataFrame\n",
    "data.head()"
   ]
  },
  {
   "cell_type": "markdown",
   "id": "c5c84bd7",
   "metadata": {},
   "source": [
    "### ***Checking the first 50 columns for Nulls since the rest of the columns are already One Hot Encoded and we will need to conduct transformations or drop only these columns***"
   ]
  },
  {
   "cell_type": "code",
   "execution_count": 87,
   "id": "6c8b4f3c-c337-4493-b1d6-14871b69f5c5",
   "metadata": {},
   "outputs": [
    {
     "data": {
      "text/plain": [
       "ID                              0\n",
       "Possession Status              78\n",
       "Availability Starts From     9602\n",
       "Floor No                      858\n",
       "Commercial                      0\n",
       "Developer                    5679\n",
       "Approved Authority Name      6542\n",
       "Units Available              6550\n",
       "Price                          84\n",
       "Price (English)                 0\n",
       "Flooring Type                4534\n",
       "Electricity Status           5425\n",
       "Maintenance Type             5613\n",
       "Maintenance Charges          6402\n",
       "Booking Amount               4984\n",
       "Landmark                     4644\n",
       "Covered Area                 1311\n",
       "Project Name                 4531\n",
       "sqft Price                   1205\n",
       "Carpet Area                  2552\n",
       "Area Name                       0\n",
       "Property Uniqueness          8025\n",
       "Unit of Carpet Area          1307\n",
       "Society                         0\n",
       "Ownership Type               3260\n",
       "furnished Type                 77\n",
       "Bathroom                       69\n",
       "Parking                      6159\n",
       "Facing                       3569\n",
       "Amenities Facing             4099\n",
       "Transaction Type                0\n",
       "Floor Data                    858\n",
       "Type of Property                0\n",
       "City                            0\n",
       "bedroom                         0\n",
       "Data Referred From              0\n",
       "floors                        866\n",
       "Water Status                 5396\n",
       "Luxury Flat                     0\n",
       "Covered Area.1               1311\n",
       "Carpet Area Unit             2607\n",
       "isPrimeLocationProperty         0\n",
       "Tenants Preference              0\n",
       "Location                      323\n",
       "Property                      323\n",
       "covArea Unit                 1307\n",
       "isLuxuryServiceProvided         0\n",
       "Property Lifespan            4812\n",
       "balconies                    6923\n",
       "Rera                        10310\n",
       "dtype: int64"
      ]
     },
     "execution_count": 87,
     "metadata": {},
     "output_type": "execute_result"
    }
   ],
   "source": [
    "#Checking the first 50 columns for null values\n",
    "data.iloc[:, :50].isnull().sum()"
   ]
  },
  {
   "cell_type": "code",
   "execution_count": 88,
   "id": "0c84be3f-7ad4-44e6-afbf-55d4de816936",
   "metadata": {},
   "outputs": [],
   "source": [
    "data = data.drop(['ID','Price (English)', 'Landmark','Rera','Developer','Luxury Flat','isLuxuryServiceProvided',\n",
    "                  'Approved Authority Name','Availability Starts From','Project Name','Flooring Type',\n",
    "                  'Booking Amount','Area Name','Property Uniqueness','Parking','Amenities Facing','Floor Data',\n",
    "                  'Data Referred From','Location','Property','Possession By', 'NRI Pref','Land Area / Covered Area',\n",
    "                  'Land Area Unit', 'Pantry Type','Tenants Preference','sqft Price ','Covered Area.1'], axis=1)"
   ]
  },
  {
   "cell_type": "code",
   "execution_count": 89,
   "id": "65adca7a-e607-4efc-b78a-22be5c1d9058",
   "metadata": {},
   "outputs": [
    {
     "data": {
      "text/plain": [
       "Possession Status            78\n",
       "Floor No                    858\n",
       "Commercial                    0\n",
       "Units Available            6550\n",
       "Price                        84\n",
       "Electricity Status         5425\n",
       "Maintenance Type           5613\n",
       "Maintenance Charges        6402\n",
       "Covered Area               1311\n",
       "Carpet Area                2552\n",
       "Unit of Carpet Area        1307\n",
       "Society                       0\n",
       "Ownership Type             3260\n",
       "furnished Type               77\n",
       "Bathroom                     69\n",
       "Facing                     3569\n",
       "Transaction Type              0\n",
       "Type of Property              0\n",
       "City                          0\n",
       "bedroom                       0\n",
       "floors                      866\n",
       "Water Status               5396\n",
       "Carpet Area Unit           2607\n",
       "isPrimeLocationProperty       0\n",
       "covArea Unit               1307\n",
       "Property Lifespan          4812\n",
       "balconies                  6923\n",
       "dtype: int64"
      ]
     },
     "execution_count": 89,
     "metadata": {},
     "output_type": "execute_result"
    }
   ],
   "source": [
    "data.iloc[:, :27].isnull().sum()"
   ]
  },
  {
   "cell_type": "markdown",
   "id": "2e549ca0",
   "metadata": {},
   "source": [
    "### ***Now we will be looking at each of the 30 columns above to see if there is a need for manual transformation of each of the column's non-null values***"
   ]
  },
  {
   "cell_type": "code",
   "execution_count": 90,
   "id": "a7853dc1",
   "metadata": {},
   "outputs": [
    {
     "data": {
      "text/plain": [
       "Possession Status\n",
       "Ready to Move         9735\n",
       "Under Construction    2630\n",
       "Dec '26                 50\n",
       "Dec '24                 31\n",
       "Dec '23                 29\n",
       "Dec '25                 28\n",
       "Jun '24                 21\n",
       "Dec '27                 16\n",
       "Jun '26                 16\n",
       "Dec '28                 12\n",
       "Mar '25                  6\n",
       "Mar '24                  5\n",
       "Apr '28                  4\n",
       "Sep '26                  4\n",
       "Immediately              4\n",
       "Nov '25                  3\n",
       "Apr '24                  3\n",
       "Jun '25                  3\n",
       "Sep '23                  3\n",
       "Nov '23                  2\n",
       "Select Date              2\n",
       "Name: count, dtype: int64"
      ]
     },
     "execution_count": 90,
     "metadata": {},
     "output_type": "execute_result"
    }
   ],
   "source": [
    "data['Possession Status'].value_counts()"
   ]
  },
  {
   "cell_type": "code",
   "execution_count": 91,
   "id": "1e4112eb-627f-4c23-bed0-daa7a5ac6a02",
   "metadata": {},
   "outputs": [],
   "source": [
    "# Function to transform the 'Possession Status' values so that there are only two types of non-null values \n",
    "# categorising them into Under Consruction and Ready to Move \n",
    "def transform_possession_status(value):\n",
    "    if pd.isnull(value):\n",
    "        return 'Ready to Move' # Keep null values unchanged\n",
    "    elif value in ['Immediately', 'Ready to Move','NA','Select Date']:\n",
    "        return 'Ready to Move'\n",
    "    #This is done because from the data we can see that for the respective NA rows\n",
    "    # the transaction types are resale/rent indicating they are ready to move in\n",
    "    else:\n",
    "        return 'Under Construction'\n",
    "\n",
    "# Apply the transformation\n",
    "data['Possession Status'] = data['Possession Status'].apply(transform_possession_status)"
   ]
  },
  {
   "cell_type": "code",
   "execution_count": 92,
   "id": "9988bbbb",
   "metadata": {},
   "outputs": [
    {
     "data": {
      "text/plain": [
       "Possession Status\n",
       "Ready to Move         9819\n",
       "Under Construction    2866\n",
       "Name: count, dtype: int64"
      ]
     },
     "execution_count": 92,
     "metadata": {},
     "output_type": "execute_result"
    }
   ],
   "source": [
    "data['Possession Status'].value_counts()"
   ]
  },
  {
   "cell_type": "code",
   "execution_count": 93,
   "id": "a656049b",
   "metadata": {},
   "outputs": [
    {
     "data": {
      "text/plain": [
       "Floor No\n",
       "3     1004\n",
       "4      970\n",
       "2      958\n",
       "1      920\n",
       "5      868\n",
       "      ... \n",
       "93       1\n",
       "65       1\n",
       "44       1\n",
       "56       1\n",
       "66       1\n",
       "Name: count, Length: 70, dtype: int64"
      ]
     },
     "execution_count": 93,
     "metadata": {},
     "output_type": "execute_result"
    }
   ],
   "source": [
    "data['Floor No'].value_counts()"
   ]
  },
  {
   "cell_type": "code",
   "execution_count": 94,
   "id": "c7e60ec8-a65e-44e4-87c9-88b37b4b4f2c",
   "metadata": {},
   "outputs": [],
   "source": [
    "# Function to transform the 'Floor Number' values to keep only numerical data, \n",
    "# hence converting the basement data points to numbers\n",
    "def transform_floor_number(value):\n",
    "    if pd.isnull(value):\n",
    "        return value  # Keep null values unchanged\n",
    "    elif value == 'Upper Basement':\n",
    "        return -1\n",
    "    elif value == 'Lower Basement':\n",
    "        return -2\n",
    "    elif value == 'Ground':\n",
    "        return 0\n",
    "    elif value == 'NA':\n",
    "        return None\n",
    "    else:\n",
    "        return value  # Keep other numeric values unchanged\n",
    "\n",
    "# Apply the transformation\n",
    "data['Floor No'] = data['Floor No'].apply(transform_floor_number)"
   ]
  },
  {
   "cell_type": "code",
   "execution_count": 95,
   "id": "34cf8257",
   "metadata": {
    "scrolled": true
   },
   "outputs": [
    {
     "data": {
      "text/plain": [
       "Electricity Status\n",
       "No/Rare Powercut             7238\n",
       "Less Than 2 Hour Powercut      18\n",
       "2 To 4 Hours Powercut           3\n",
       "Over 6 Hours Powercut           1\n",
       "Name: count, dtype: int64"
      ]
     },
     "execution_count": 95,
     "metadata": {},
     "output_type": "execute_result"
    }
   ],
   "source": [
    "data['Electricity Status'].value_counts()"
   ]
  },
  {
   "cell_type": "code",
   "execution_count": 96,
   "id": "54b2277b-7856-4869-a433-bda5e57b8ea6",
   "metadata": {},
   "outputs": [],
   "source": [
    "data.rename(columns={'Electricity Status': '24H Elec'}, inplace=True)\n",
    "\n",
    "# Function to transform the '24H Elec' values to binary\n",
    "def transform_electricity_status(value):\n",
    "    if pd.isnull(value):\n",
    "        return value  # Keep null values unchanged\n",
    "    elif value == 'No/Rare Powercut':\n",
    "        return 1\n",
    "    else:\n",
    "        return 0\n",
    "\n",
    "# Apply the transformation\n",
    "data['24H Elec'] = data['24H Elec'].apply(transform_electricity_status)"
   ]
  },
  {
   "cell_type": "code",
   "execution_count": 97,
   "id": "07628b31",
   "metadata": {
    "scrolled": true
   },
   "outputs": [
    {
     "data": {
      "text/plain": [
       "24H Elec\n",
       "1.0    12663\n",
       "0.0       22\n",
       "Name: count, dtype: int64"
      ]
     },
     "execution_count": 97,
     "metadata": {},
     "output_type": "execute_result"
    }
   ],
   "source": [
    "data['24H Elec'] = data['24H Elec'].replace(np.nan, 1)\n",
    "data['24H Elec'].value_counts()"
   ]
  },
  {
   "cell_type": "code",
   "execution_count": 98,
   "id": "86b071f2-052c-4cda-98df-1a0bac817731",
   "metadata": {},
   "outputs": [
    {
     "data": {
      "text/plain": [
       "City\n",
       "Mumbai       8542\n",
       "Thane        4113\n",
       "Kalyan          9\n",
       "Hyderabad       8\n",
       "Nagpur          7\n",
       "Palghar         2\n",
       "Bhiwandi        2\n",
       "Agartala        1\n",
       "Gurgaon         1\n",
       "Name: count, dtype: int64"
      ]
     },
     "execution_count": 98,
     "metadata": {},
     "output_type": "execute_result"
    }
   ],
   "source": [
    "data['City'].value_counts()"
   ]
  },
  {
   "cell_type": "code",
   "execution_count": 99,
   "id": "0f7be8d7-ecc4-4228-9721-4ebdf1e1b1ba",
   "metadata": {},
   "outputs": [],
   "source": [
    "# List of cities to be removed\n",
    "# Dropping these cities since they are not around Mumbai and can skew the pricing data since property prices vary\n",
    "cities_to_remove = ['Hyderabad', 'Nagpur', 'Agartala', 'Gurgaon']\n",
    "\n",
    "# Drop rows where 'City' is in the list of cities to remove\n",
    "data = data[~data['City'].isin(cities_to_remove)]\n",
    "\n",
    "# Drop the 'City' column since now all the data points are in and around Mumbai\n",
    "data.drop('City', axis=1, inplace=True)"
   ]
  },
  {
   "cell_type": "code",
   "execution_count": 100,
   "id": "70bdee73",
   "metadata": {},
   "outputs": [
    {
     "data": {
      "text/plain": [
       "floors\n",
       "7.0      1652\n",
       "4.0       842\n",
       "22.0      642\n",
       "8.0       479\n",
       "23.0      409\n",
       "         ... \n",
       "77.0        1\n",
       "200.0       1\n",
       "71.0        1\n",
       "93.0        1\n",
       "74.0        1\n",
       "Name: count, Length: 83, dtype: int64"
      ]
     },
     "execution_count": 100,
     "metadata": {},
     "output_type": "execute_result"
    }
   ],
   "source": [
    "data['floors'].value_counts()"
   ]
  },
  {
   "cell_type": "code",
   "execution_count": 101,
   "id": "b5a3f6d6-62ca-493a-a954-ca1e5a1bb561",
   "metadata": {},
   "outputs": [
    {
     "data": {
      "text/plain": [
       "floors\n",
       "7.0      1652\n",
       "4.0       842\n",
       "22.0      642\n",
       "8.0       479\n",
       "23.0      409\n",
       "         ... \n",
       "77.0        1\n",
       "200.0       1\n",
       "71.0        1\n",
       "93.0        1\n",
       "74.0        1\n",
       "Name: count, Length: 83, dtype: int64"
      ]
     },
     "execution_count": 101,
     "metadata": {},
     "output_type": "execute_result"
    }
   ],
   "source": [
    "data['floors'] = data['floors'].replace('NA', np.nan)\n",
    "\n",
    "# Display the Valuecounts to verify changes\n",
    "data['floors'].value_counts()"
   ]
  },
  {
   "cell_type": "code",
   "execution_count": 102,
   "id": "01398460",
   "metadata": {},
   "outputs": [
    {
     "data": {
      "text/plain": [
       "Water Status\n",
       "Water Availability 24 Hours Available    7023\n",
       "Water Availability 1 Hour Available       115\n",
       "Water Availability 2 Hours Available       83\n",
       "Water Availability 12 Hours Available      39\n",
       "Water Availability 6 Hours Available       23\n",
       "Name: count, dtype: int64"
      ]
     },
     "execution_count": 102,
     "metadata": {},
     "output_type": "execute_result"
    }
   ],
   "source": [
    "data['Water Status'].value_counts()"
   ]
  },
  {
   "cell_type": "code",
   "execution_count": 103,
   "id": "9e140cd7-2692-456b-bb7b-dd74bc0f17f5",
   "metadata": {},
   "outputs": [],
   "source": [
    "# Rename the 'Water Status' column to '24H Water'\n",
    "data.rename(columns={'Water Status': '24H Water'}, inplace=True)\n",
    "\n",
    "# Function to transform the '24H Water' values\n",
    "def transform_water_status(value):\n",
    "    if pd.isnull(value):\n",
    "        return np.nan  # Keep null values unchanged\n",
    "    elif value == 'Water Availability 24 Hours Available':\n",
    "        return 1\n",
    "    else:\n",
    "        return 0\n",
    "\n",
    "# Apply the transformation\n",
    "data['24H Water'] = data['24H Water'].apply(transform_water_status)"
   ]
  },
  {
   "cell_type": "code",
   "execution_count": 104,
   "id": "ff4b0afe",
   "metadata": {},
   "outputs": [
    {
     "data": {
      "text/plain": [
       "24H Water\n",
       "1.0    7023\n",
       "0.0     260\n",
       "Name: count, dtype: int64"
      ]
     },
     "execution_count": 104,
     "metadata": {},
     "output_type": "execute_result"
    }
   ],
   "source": [
    "data['24H Water'].value_counts()"
   ]
  },
  {
   "cell_type": "code",
   "execution_count": 105,
   "id": "9adc573e",
   "metadata": {},
   "outputs": [
    {
     "data": {
      "text/plain": [
       "balconies\n",
       "1.0    2687\n",
       "2.0    1456\n",
       "3.0    1138\n",
       "4.0     351\n",
       "5.0      84\n",
       "6.0      26\n",
       "7.0       6\n",
       "8.0       4\n",
       "Name: count, dtype: int64"
      ]
     },
     "execution_count": 105,
     "metadata": {},
     "output_type": "execute_result"
    }
   ],
   "source": [
    "data['balconies'].value_counts()"
   ]
  },
  {
   "cell_type": "code",
   "execution_count": 106,
   "id": "1169bc3f-a295-4bca-8b3a-72d5d8f23726",
   "metadata": {},
   "outputs": [],
   "source": [
    "# Replace 'NA' with NaN in the 'Balconies' column\n",
    "data['balconies'] = data['balconies'].replace('NA', np.nan)\n",
    "\n",
    "# Display the DataFrame to verify changes\n",
    "data.to_csv('output.csv', index=False)\n"
   ]
  },
  {
   "cell_type": "code",
   "execution_count": 107,
   "id": "ad4b990f-f431-4e71-916c-1d03171b9c3b",
   "metadata": {},
   "outputs": [
    {
     "data": {
      "text/plain": [
       "Property Lifespan\n",
       "New Construction     1896\n",
       "5 to 10 years        1609\n",
       "Less than 5 years    1558\n",
       "10 to 15 years       1119\n",
       "Above 20 years        991\n",
       "15 to 20 years        691\n",
       "Name: count, dtype: int64"
      ]
     },
     "execution_count": 107,
     "metadata": {},
     "output_type": "execute_result"
    }
   ],
   "source": [
    "data['Property Lifespan'].value_counts()"
   ]
  },
  {
   "cell_type": "code",
   "execution_count": 108,
   "id": "8374e86d-42a6-4792-bce4-56195d29bd8c",
   "metadata": {},
   "outputs": [
    {
     "data": {
      "text/plain": [
       "Unit of Carpet Area\n",
       "Sq-ft      11345\n",
       "Sq-m          11\n",
       "Acre           2\n",
       "Bigha          1\n",
       "Hectare        1\n",
       "Sq-yrd         1\n",
       "Name: count, dtype: int64"
      ]
     },
     "execution_count": 108,
     "metadata": {},
     "output_type": "execute_result"
    }
   ],
   "source": [
    "data['Unit of Carpet Area'].value_counts()"
   ]
  },
  {
   "cell_type": "code",
   "execution_count": 109,
   "id": "5cf1e020-65ca-4ffa-b72d-37ce84e06e89",
   "metadata": {},
   "outputs": [
    {
     "data": {
      "text/plain": [
       "Carpet Area Unit\n",
       "Sq-ft     10050\n",
       "Sq-m         15\n",
       "Acre          3\n",
       "Marla         1\n",
       "Ground        1\n",
       "Name: count, dtype: int64"
      ]
     },
     "execution_count": 109,
     "metadata": {},
     "output_type": "execute_result"
    }
   ],
   "source": [
    "data['Carpet Area Unit'].value_counts()"
   ]
  },
  {
   "cell_type": "code",
   "execution_count": 110,
   "id": "609a8f14-4e4b-4bc9-a664-85f2a81730c1",
   "metadata": {},
   "outputs": [
    {
     "data": {
      "text/plain": [
       "covArea Unit\n",
       "Sq-ft      11345\n",
       "Sq-m          11\n",
       "Acre           2\n",
       "Bigha          1\n",
       "Hectare        1\n",
       "Sq-yrd         1\n",
       "Name: count, dtype: int64"
      ]
     },
     "execution_count": 110,
     "metadata": {},
     "output_type": "execute_result"
    }
   ],
   "source": [
    "data['covArea Unit'].value_counts()"
   ]
  },
  {
   "cell_type": "code",
   "execution_count": 111,
   "id": "932e63e7-4713-4c20-8c83-8e3c8c8d13e6",
   "metadata": {},
   "outputs": [],
   "source": [
    "# Keep only the rows where 'Carpet Area Unit' is 'Sq-ft'\n",
    "\n",
    "# Drop rows where 'Carpet Area Unit' is not 'Sq-ft' but keep null values\n",
    "data = data[(data['Carpet Area Unit'] == 'Sq-ft') | (data['Carpet Area Unit'].isnull())]"
   ]
  },
  {
   "cell_type": "code",
   "execution_count": 112,
   "id": "9add9bf6-a86d-4c06-a577-af1075a6d97c",
   "metadata": {},
   "outputs": [
    {
     "data": {
      "text/plain": [
       "Carpet Area Unit\n",
       "Sq-ft    10050\n",
       "Name: count, dtype: int64"
      ]
     },
     "execution_count": 112,
     "metadata": {},
     "output_type": "execute_result"
    }
   ],
   "source": [
    "data['Carpet Area Unit'].value_counts()"
   ]
  },
  {
   "cell_type": "code",
   "execution_count": 113,
   "id": "7081a321-3b43-4acd-ada2-822c3e89a927",
   "metadata": {},
   "outputs": [
    {
     "data": {
      "text/plain": [
       "Unit of Carpet Area\n",
       "Sq-ft      11340\n",
       "Sq-m           6\n",
       "Acre           2\n",
       "Bigha          1\n",
       "Hectare        1\n",
       "Sq-yrd         1\n",
       "Name: count, dtype: int64"
      ]
     },
     "execution_count": 113,
     "metadata": {},
     "output_type": "execute_result"
    }
   ],
   "source": [
    "data['Unit of Carpet Area'].value_counts()"
   ]
  },
  {
   "cell_type": "code",
   "execution_count": 114,
   "id": "88bc8011-3d97-475d-9a22-ca50e367290c",
   "metadata": {},
   "outputs": [],
   "source": [
    "# Drop rows where 'Carpet Area Unit' is not 'Sq-ft' but keep null values\n",
    "data = data[(data['Unit of Carpet Area'] == 'Sq-ft') | (data['Unit of Carpet Area'].isnull())]"
   ]
  },
  {
   "cell_type": "code",
   "execution_count": 115,
   "id": "0044d355-594f-433f-9271-7688f7b2bfd5",
   "metadata": {},
   "outputs": [
    {
     "data": {
      "text/plain": [
       "Carpet Area Unit\n",
       "Sq-ft    10043\n",
       "Name: count, dtype: int64"
      ]
     },
     "execution_count": 115,
     "metadata": {},
     "output_type": "execute_result"
    }
   ],
   "source": [
    "data['Carpet Area Unit'].value_counts()"
   ]
  },
  {
   "cell_type": "code",
   "execution_count": 116,
   "id": "1d397947-5318-42f2-ae25-d489f52eb49d",
   "metadata": {},
   "outputs": [
    {
     "data": {
      "text/plain": [
       "Unit of Carpet Area\n",
       "Sq-ft    11340\n",
       "Name: count, dtype: int64"
      ]
     },
     "execution_count": 116,
     "metadata": {},
     "output_type": "execute_result"
    }
   ],
   "source": [
    "data['Unit of Carpet Area'].value_counts()"
   ]
  },
  {
   "cell_type": "code",
   "execution_count": 117,
   "id": "fced583c-ac11-4115-8343-42a164003d03",
   "metadata": {},
   "outputs": [
    {
     "data": {
      "text/plain": [
       "covArea Unit\n",
       "Sq-ft    11340\n",
       "Name: count, dtype: int64"
      ]
     },
     "execution_count": 117,
     "metadata": {},
     "output_type": "execute_result"
    }
   ],
   "source": [
    "data['covArea Unit'].value_counts()"
   ]
  },
  {
   "cell_type": "code",
   "execution_count": 118,
   "id": "a99e42c7-b3cf-49ba-aac4-df9593bf7bbb",
   "metadata": {},
   "outputs": [
    {
     "data": {
      "text/plain": [
       "Maintenance Type\n",
       "Monthly                 6071\n",
       "Per sq. Unit Monthly     882\n",
       "Quarterly                 64\n",
       "Yearly                    37\n",
       "One-Time                   4\n",
       "Name: count, dtype: int64"
      ]
     },
     "execution_count": 118,
     "metadata": {},
     "output_type": "execute_result"
    }
   ],
   "source": [
    "data['Maintenance Type'].value_counts()"
   ]
  },
  {
   "cell_type": "code",
   "execution_count": 119,
   "id": "43a7b113-a2d3-409f-a991-bf8c23485d13",
   "metadata": {},
   "outputs": [],
   "source": [
    "# Filter the DataFrame\n",
    "data = data[(data['Maintenance Type'].isnull()) | (data['Maintenance Type'] == 'Monthly')]\n",
    "\n",
    "data.to_csv('output.csv', index=False)\n"
   ]
  },
  {
   "cell_type": "code",
   "execution_count": 120,
   "id": "ba1170d1",
   "metadata": {},
   "outputs": [
    {
     "data": {
      "text/plain": [
       "Maintenance Type\n",
       "Monthly    6071\n",
       "Name: count, dtype: int64"
      ]
     },
     "execution_count": 120,
     "metadata": {},
     "output_type": "execute_result"
    }
   ],
   "source": [
    "data['Maintenance Type'].value_counts()"
   ]
  },
  {
   "cell_type": "code",
   "execution_count": 121,
   "id": "7f04ca80-50c2-440f-9a60-d28520178eaa",
   "metadata": {},
   "outputs": [],
   "source": [
    "data= data.drop(['Carpet Area Unit', 'Unit of Carpet Area','covArea Unit','Maintenance Type'],axis=1)"
   ]
  },
  {
   "cell_type": "code",
   "execution_count": 122,
   "id": "152c9fe8",
   "metadata": {},
   "outputs": [],
   "source": [
    "# Replace 'NaN' with 1 in the 'Units Available' column\n",
    "data['Units Available'] = data['Units Available'].replace(np.nan, 1)"
   ]
  },
  {
   "cell_type": "code",
   "execution_count": 123,
   "id": "11845964-529a-4f6c-ada5-bab2dc86bec8",
   "metadata": {},
   "outputs": [],
   "source": [
    "data['24H Water'] = data['24H Water'].replace(np.nan, 1)"
   ]
  },
  {
   "cell_type": "code",
   "execution_count": 124,
   "id": "fbd3ced4",
   "metadata": {},
   "outputs": [],
   "source": [
    "data = data.dropna(subset=['Price'])"
   ]
  },
  {
   "cell_type": "code",
   "execution_count": 125,
   "id": "998c8f44",
   "metadata": {},
   "outputs": [],
   "source": [
    "data = data.dropna(subset=['Covered Area'])"
   ]
  },
  {
   "cell_type": "code",
   "execution_count": 126,
   "id": "bc3c5092",
   "metadata": {},
   "outputs": [],
   "source": [
    "data = data.dropna(subset=['Carpet Area'])"
   ]
  },
  {
   "cell_type": "code",
   "execution_count": 127,
   "id": "68ac01c0-e72b-48c0-acea-638b23651cd8",
   "metadata": {},
   "outputs": [
    {
     "data": {
      "text/plain": [
       "Possession Status             0\n",
       "Floor No                    405\n",
       "Commercial                    0\n",
       "Units Available               0\n",
       "Price                         0\n",
       "24H Elec                      0\n",
       "Maintenance Charges        2922\n",
       "Covered Area                  0\n",
       "Carpet Area                   0\n",
       "Society                       0\n",
       "Ownership Type              941\n",
       "furnished Type               11\n",
       "Bathroom                      6\n",
       "Facing                     1078\n",
       "Transaction Type              0\n",
       "Type of Property              0\n",
       "bedroom                       0\n",
       "floors                      406\n",
       "24H Water                     0\n",
       "isPrimeLocationProperty       0\n",
       "Property Lifespan          2075\n",
       "balconies                  3684\n",
       "dtype: int64"
      ]
     },
     "execution_count": 127,
     "metadata": {},
     "output_type": "execute_result"
    }
   ],
   "source": [
    "data.iloc[:, :22].isnull().sum()"
   ]
  },
  {
   "cell_type": "code",
   "execution_count": 128,
   "id": "daa0f4b8",
   "metadata": {},
   "outputs": [
    {
     "data": {
      "text/plain": [
       "(7890, 112)"
      ]
     },
     "execution_count": 128,
     "metadata": {},
     "output_type": "execute_result"
    }
   ],
   "source": [
    "data.shape"
   ]
  },
  {
   "cell_type": "code",
   "execution_count": 129,
   "id": "c1e450cf",
   "metadata": {},
   "outputs": [
    {
     "data": {
      "text/plain": [
       "Ownership Type\n",
       "Freehold                4939\n",
       "Co-operative Society    1837\n",
       "Leasehold                133\n",
       "Power Of Attorney         40\n",
       "Name: count, dtype: int64"
      ]
     },
     "execution_count": 129,
     "metadata": {},
     "output_type": "execute_result"
    }
   ],
   "source": [
    "data['Ownership Type'].value_counts()"
   ]
  },
  {
   "cell_type": "code",
   "execution_count": 130,
   "id": "b2ea60d1-1c84-4f5a-9f71-e3fd33f86b38",
   "metadata": {},
   "outputs": [
    {
     "data": {
      "text/plain": [
       "24H Water\n",
       "1.0    7703\n",
       "0.0     187\n",
       "Name: count, dtype: int64"
      ]
     },
     "execution_count": 130,
     "metadata": {},
     "output_type": "execute_result"
    }
   ],
   "source": [
    "data['24H Water'].value_counts()"
   ]
  },
  {
   "cell_type": "code",
   "execution_count": 131,
   "id": "fbf7f00a-87a7-4e90-93b3-d0af9da2ba3d",
   "metadata": {},
   "outputs": [
    {
     "name": "stdout",
     "output_type": "stream",
     "text": [
      "['Power Back Up', 'Lift', 'Rain Water Harvesting', 'Club House', 'Swimming Pool', 'Gymnasium', 'Park', 'Parking.1', 'Security', 'Water Storage', 'Private Terrace/Garden', 'Vaastu Compliant', 'Service/Goods Lift', 'Air Conditioned', 'Visitor Parking', 'Intercom Facility', 'Maintenance Staff', 'Waste Disposal', 'Laundry Service', 'Internet/Wi-Fi Connectivity', 'DTH Television Facility', 'RO Water System', 'Banquet Hall', 'Bar/Lounge', 'Cafeteria/Food Court', 'Conference Room', 'Piped Gas', 'Jogging and Strolling Track', 'Outdoor Tennis Courts', 'Mansion', 'Downtown', 'Skyline View', 'Wrap Around Balcony', 'Island Kitchen Layout', 'Full Glass Wall', 'House help accommodation', 'Concierge Services', 'Garden View', 'Marble flooring', 'Well Furnished', 'Modular Kitchen', 'Helipad', 'Private pool ', 'Private Jaccuzi', 'Mini Cinema Theatre', 'Golf Course', 'Infinity Swimming Pool', 'Pool with temperature control ', 'Sea facing', 'Skydeck', 'Earth quake resistant', 'Theme based Architectures', 'Health club with Steam / Jaccuzi', 'Large Clubhouse ', 'Large Open space', 'Fingerprint Access', 'Grand Entrance lobby', 'Private Garage', 'Fireplace', 'Wine Cellar', 'Sky Villa', 'Water Front', 'Hilltop', 'Smart Home', 'Barbeque space', 'Kids play area', 'Library', 'Puja Room', 'Study', 'Servant Room', 'Store', 'Aerobics Room', 'Canopy Walk', 'Coffee Lounge & Restaurants', 'Dance Studio', 'Event Space & Amphitheatre', 'Flower Gardens', 'Guest Accommodation', 'Indoor Squash & Badminton Courts', 'Kids Play Area', 'Kids Play Pool With Water Slides', 'Library And Business Centre', 'Meditation Area', 'Multipurpose Courts', 'Recreational Pool', 'Rentable CommuniPfty Space', 'Retail Boulevard (Retail Shops)', 'Cycling & Jogging Track', 'Fire Fighting Equipment', 'Aesthetically designed landscape garden']\n"
     ]
    }
   ],
   "source": [
    "\n",
    "# Get the first 22 column names as a list\n",
    "first_22_column_names = data.columns[22:].tolist()\n",
    "\n",
    "# Print the list of column names\n",
    "print(first_22_column_names)\n",
    "\n"
   ]
  },
  {
   "cell_type": "code",
   "execution_count": 169,
   "id": "b3490c16-e965-4cee-8090-6de23dbcb4f7",
   "metadata": {},
   "outputs": [
    {
     "data": {
      "text/html": [
       "<div>\n",
       "<style scoped>\n",
       "    .dataframe tbody tr th:only-of-type {\n",
       "        vertical-align: middle;\n",
       "    }\n",
       "\n",
       "    .dataframe tbody tr th {\n",
       "        vertical-align: top;\n",
       "    }\n",
       "\n",
       "    .dataframe thead th {\n",
       "        text-align: right;\n",
       "    }\n",
       "</style>\n",
       "<table border=\"1\" class=\"dataframe\">\n",
       "  <thead>\n",
       "    <tr style=\"text-align: right;\">\n",
       "      <th></th>\n",
       "      <th>Units Available</th>\n",
       "      <th>Price</th>\n",
       "      <th>24H Elec</th>\n",
       "      <th>Maintenance Charges</th>\n",
       "      <th>Covered Area</th>\n",
       "      <th>Carpet Area</th>\n",
       "      <th>Bathroom</th>\n",
       "      <th>bedroom</th>\n",
       "      <th>floors</th>\n",
       "      <th>24H Water</th>\n",
       "      <th>...</th>\n",
       "      <th>Kids Play Pool With Water Slides</th>\n",
       "      <th>Library And Business Centre</th>\n",
       "      <th>Meditation Area</th>\n",
       "      <th>Multipurpose Courts</th>\n",
       "      <th>Recreational Pool</th>\n",
       "      <th>Rentable CommuniPfty Space</th>\n",
       "      <th>Retail Boulevard (Retail Shops)</th>\n",
       "      <th>Cycling &amp; Jogging Track</th>\n",
       "      <th>Fire Fighting Equipment</th>\n",
       "      <th>Aesthetically designed landscape garden</th>\n",
       "    </tr>\n",
       "  </thead>\n",
       "  <tbody>\n",
       "    <tr>\n",
       "      <th>count</th>\n",
       "      <td>7890.000000</td>\n",
       "      <td>7.890000e+03</td>\n",
       "      <td>7890.000000</td>\n",
       "      <td>4.968000e+03</td>\n",
       "      <td>7890.000000</td>\n",
       "      <td>7890.000000</td>\n",
       "      <td>7884.000000</td>\n",
       "      <td>7890.000000</td>\n",
       "      <td>7484.000000</td>\n",
       "      <td>7890.000000</td>\n",
       "      <td>...</td>\n",
       "      <td>7890.000000</td>\n",
       "      <td>7890.000000</td>\n",
       "      <td>7890.000000</td>\n",
       "      <td>7890.000000</td>\n",
       "      <td>7890.000000</td>\n",
       "      <td>7890.000000</td>\n",
       "      <td>7890.000000</td>\n",
       "      <td>7890.000000</td>\n",
       "      <td>7890.000000</td>\n",
       "      <td>7890.000000</td>\n",
       "    </tr>\n",
       "    <tr>\n",
       "      <th>mean</th>\n",
       "      <td>4.954499</td>\n",
       "      <td>2.975866e+07</td>\n",
       "      <td>0.997845</td>\n",
       "      <td>1.073334e+04</td>\n",
       "      <td>1107.319138</td>\n",
       "      <td>812.288340</td>\n",
       "      <td>2.225393</td>\n",
       "      <td>2.054246</td>\n",
       "      <td>19.324559</td>\n",
       "      <td>0.976299</td>\n",
       "      <td>...</td>\n",
       "      <td>0.653612</td>\n",
       "      <td>0.653485</td>\n",
       "      <td>0.654499</td>\n",
       "      <td>0.654499</td>\n",
       "      <td>0.653485</td>\n",
       "      <td>0.653485</td>\n",
       "      <td>0.653992</td>\n",
       "      <td>0.654626</td>\n",
       "      <td>0.655133</td>\n",
       "      <td>0.653739</td>\n",
       "    </tr>\n",
       "    <tr>\n",
       "      <th>std</th>\n",
       "      <td>20.107711</td>\n",
       "      <td>4.601122e+08</td>\n",
       "      <td>0.046371</td>\n",
       "      <td>2.698157e+05</td>\n",
       "      <td>774.205217</td>\n",
       "      <td>542.297789</td>\n",
       "      <td>0.930305</td>\n",
       "      <td>0.954988</td>\n",
       "      <td>14.538289</td>\n",
       "      <td>0.152125</td>\n",
       "      <td>...</td>\n",
       "      <td>0.475849</td>\n",
       "      <td>0.475890</td>\n",
       "      <td>0.475561</td>\n",
       "      <td>0.475561</td>\n",
       "      <td>0.475890</td>\n",
       "      <td>0.475890</td>\n",
       "      <td>0.475726</td>\n",
       "      <td>0.475520</td>\n",
       "      <td>0.475355</td>\n",
       "      <td>0.475808</td>\n",
       "    </tr>\n",
       "    <tr>\n",
       "      <th>min</th>\n",
       "      <td>0.000000</td>\n",
       "      <td>1.000000e+05</td>\n",
       "      <td>0.000000</td>\n",
       "      <td>0.000000e+00</td>\n",
       "      <td>10.000000</td>\n",
       "      <td>10.000000</td>\n",
       "      <td>1.000000</td>\n",
       "      <td>1.000000</td>\n",
       "      <td>1.000000</td>\n",
       "      <td>0.000000</td>\n",
       "      <td>...</td>\n",
       "      <td>0.000000</td>\n",
       "      <td>0.000000</td>\n",
       "      <td>0.000000</td>\n",
       "      <td>0.000000</td>\n",
       "      <td>0.000000</td>\n",
       "      <td>0.000000</td>\n",
       "      <td>0.000000</td>\n",
       "      <td>0.000000</td>\n",
       "      <td>0.000000</td>\n",
       "      <td>0.000000</td>\n",
       "    </tr>\n",
       "    <tr>\n",
       "      <th>25%</th>\n",
       "      <td>1.000000</td>\n",
       "      <td>7.600000e+06</td>\n",
       "      <td>1.000000</td>\n",
       "      <td>1.000000e+03</td>\n",
       "      <td>650.000000</td>\n",
       "      <td>465.250000</td>\n",
       "      <td>2.000000</td>\n",
       "      <td>1.000000</td>\n",
       "      <td>7.000000</td>\n",
       "      <td>1.000000</td>\n",
       "      <td>...</td>\n",
       "      <td>0.000000</td>\n",
       "      <td>0.000000</td>\n",
       "      <td>0.000000</td>\n",
       "      <td>0.000000</td>\n",
       "      <td>0.000000</td>\n",
       "      <td>0.000000</td>\n",
       "      <td>0.000000</td>\n",
       "      <td>0.000000</td>\n",
       "      <td>0.000000</td>\n",
       "      <td>0.000000</td>\n",
       "    </tr>\n",
       "    <tr>\n",
       "      <th>50%</th>\n",
       "      <td>1.000000</td>\n",
       "      <td>1.480000e+07</td>\n",
       "      <td>1.000000</td>\n",
       "      <td>3.200000e+03</td>\n",
       "      <td>909.500000</td>\n",
       "      <td>670.000000</td>\n",
       "      <td>2.000000</td>\n",
       "      <td>2.000000</td>\n",
       "      <td>16.000000</td>\n",
       "      <td>1.000000</td>\n",
       "      <td>...</td>\n",
       "      <td>1.000000</td>\n",
       "      <td>1.000000</td>\n",
       "      <td>1.000000</td>\n",
       "      <td>1.000000</td>\n",
       "      <td>1.000000</td>\n",
       "      <td>1.000000</td>\n",
       "      <td>1.000000</td>\n",
       "      <td>1.000000</td>\n",
       "      <td>1.000000</td>\n",
       "      <td>1.000000</td>\n",
       "    </tr>\n",
       "    <tr>\n",
       "      <th>75%</th>\n",
       "      <td>2.000000</td>\n",
       "      <td>2.800000e+07</td>\n",
       "      <td>1.000000</td>\n",
       "      <td>7.000000e+03</td>\n",
       "      <td>1292.750000</td>\n",
       "      <td>940.000000</td>\n",
       "      <td>3.000000</td>\n",
       "      <td>3.000000</td>\n",
       "      <td>26.000000</td>\n",
       "      <td>1.000000</td>\n",
       "      <td>...</td>\n",
       "      <td>1.000000</td>\n",
       "      <td>1.000000</td>\n",
       "      <td>1.000000</td>\n",
       "      <td>1.000000</td>\n",
       "      <td>1.000000</td>\n",
       "      <td>1.000000</td>\n",
       "      <td>1.000000</td>\n",
       "      <td>1.000000</td>\n",
       "      <td>1.000000</td>\n",
       "      <td>1.000000</td>\n",
       "    </tr>\n",
       "    <tr>\n",
       "      <th>max</th>\n",
       "      <td>650.000000</td>\n",
       "      <td>4.080000e+10</td>\n",
       "      <td>1.000000</td>\n",
       "      <td>1.768000e+07</td>\n",
       "      <td>15006.000000</td>\n",
       "      <td>7125.000000</td>\n",
       "      <td>10.000000</td>\n",
       "      <td>6.000000</td>\n",
       "      <td>200.000000</td>\n",
       "      <td>1.000000</td>\n",
       "      <td>...</td>\n",
       "      <td>1.000000</td>\n",
       "      <td>1.000000</td>\n",
       "      <td>1.000000</td>\n",
       "      <td>1.000000</td>\n",
       "      <td>1.000000</td>\n",
       "      <td>1.000000</td>\n",
       "      <td>1.000000</td>\n",
       "      <td>1.000000</td>\n",
       "      <td>1.000000</td>\n",
       "      <td>1.000000</td>\n",
       "    </tr>\n",
       "  </tbody>\n",
       "</table>\n",
       "<p>8 rows × 101 columns</p>\n",
       "</div>"
      ],
      "text/plain": [
       "       Units Available         Price     24H Elec  Maintenance Charges  \\\n",
       "count      7890.000000  7.890000e+03  7890.000000         4.968000e+03   \n",
       "mean          4.954499  2.975866e+07     0.997845         1.073334e+04   \n",
       "std          20.107711  4.601122e+08     0.046371         2.698157e+05   \n",
       "min           0.000000  1.000000e+05     0.000000         0.000000e+00   \n",
       "25%           1.000000  7.600000e+06     1.000000         1.000000e+03   \n",
       "50%           1.000000  1.480000e+07     1.000000         3.200000e+03   \n",
       "75%           2.000000  2.800000e+07     1.000000         7.000000e+03   \n",
       "max         650.000000  4.080000e+10     1.000000         1.768000e+07   \n",
       "\n",
       "       Covered Area  Carpet Area     Bathroom      bedroom       floors  \\\n",
       "count   7890.000000  7890.000000  7884.000000  7890.000000  7484.000000   \n",
       "mean    1107.319138   812.288340     2.225393     2.054246    19.324559   \n",
       "std      774.205217   542.297789     0.930305     0.954988    14.538289   \n",
       "min       10.000000    10.000000     1.000000     1.000000     1.000000   \n",
       "25%      650.000000   465.250000     2.000000     1.000000     7.000000   \n",
       "50%      909.500000   670.000000     2.000000     2.000000    16.000000   \n",
       "75%     1292.750000   940.000000     3.000000     3.000000    26.000000   \n",
       "max    15006.000000  7125.000000    10.000000     6.000000   200.000000   \n",
       "\n",
       "         24H Water  ...  Kids Play Pool With Water Slides  \\\n",
       "count  7890.000000  ...                       7890.000000   \n",
       "mean      0.976299  ...                          0.653612   \n",
       "std       0.152125  ...                          0.475849   \n",
       "min       0.000000  ...                          0.000000   \n",
       "25%       1.000000  ...                          0.000000   \n",
       "50%       1.000000  ...                          1.000000   \n",
       "75%       1.000000  ...                          1.000000   \n",
       "max       1.000000  ...                          1.000000   \n",
       "\n",
       "       Library And Business Centre  Meditation Area  Multipurpose Courts  \\\n",
       "count                  7890.000000      7890.000000          7890.000000   \n",
       "mean                      0.653485         0.654499             0.654499   \n",
       "std                       0.475890         0.475561             0.475561   \n",
       "min                       0.000000         0.000000             0.000000   \n",
       "25%                       0.000000         0.000000             0.000000   \n",
       "50%                       1.000000         1.000000             1.000000   \n",
       "75%                       1.000000         1.000000             1.000000   \n",
       "max                       1.000000         1.000000             1.000000   \n",
       "\n",
       "       Recreational Pool  Rentable CommuniPfty Space  \\\n",
       "count        7890.000000                 7890.000000   \n",
       "mean            0.653485                    0.653485   \n",
       "std             0.475890                    0.475890   \n",
       "min             0.000000                    0.000000   \n",
       "25%             0.000000                    0.000000   \n",
       "50%             1.000000                    1.000000   \n",
       "75%             1.000000                    1.000000   \n",
       "max             1.000000                    1.000000   \n",
       "\n",
       "       Retail Boulevard (Retail Shops)  Cycling & Jogging Track  \\\n",
       "count                      7890.000000              7890.000000   \n",
       "mean                          0.653992                 0.654626   \n",
       "std                           0.475726                 0.475520   \n",
       "min                           0.000000                 0.000000   \n",
       "25%                           0.000000                 0.000000   \n",
       "50%                           1.000000                 1.000000   \n",
       "75%                           1.000000                 1.000000   \n",
       "max                           1.000000                 1.000000   \n",
       "\n",
       "       Fire Fighting Equipment  Aesthetically designed landscape garden  \n",
       "count              7890.000000                              7890.000000  \n",
       "mean                  0.655133                                 0.653739  \n",
       "std                   0.475355                                 0.475808  \n",
       "min                   0.000000                                 0.000000  \n",
       "25%                   0.000000                                 0.000000  \n",
       "50%                   1.000000                                 1.000000  \n",
       "75%                   1.000000                                 1.000000  \n",
       "max                   1.000000                                 1.000000  \n",
       "\n",
       "[8 rows x 101 columns]"
      ]
     },
     "execution_count": 169,
     "metadata": {},
     "output_type": "execute_result"
    }
   ],
   "source": [
    "data.describe()"
   ]
  },
  {
   "cell_type": "code",
   "execution_count": 171,
   "id": "d1608980-621a-4da8-9932-49a50df1dad4",
   "metadata": {},
   "outputs": [
    {
     "data": {
      "text/html": [
       "<div>\n",
       "<style scoped>\n",
       "    .dataframe tbody tr th:only-of-type {\n",
       "        vertical-align: middle;\n",
       "    }\n",
       "\n",
       "    .dataframe tbody tr th {\n",
       "        vertical-align: top;\n",
       "    }\n",
       "\n",
       "    .dataframe thead th {\n",
       "        text-align: right;\n",
       "    }\n",
       "</style>\n",
       "<table border=\"1\" class=\"dataframe\">\n",
       "  <thead>\n",
       "    <tr style=\"text-align: right;\">\n",
       "      <th></th>\n",
       "      <th>Possession Status</th>\n",
       "      <th>Floor No</th>\n",
       "      <th>Commercial</th>\n",
       "      <th>Units Available</th>\n",
       "      <th>Price</th>\n",
       "      <th>24H Elec</th>\n",
       "      <th>Maintenance Charges</th>\n",
       "      <th>Covered Area</th>\n",
       "      <th>Carpet Area</th>\n",
       "      <th>Society</th>\n",
       "      <th>...</th>\n",
       "      <th>Kids Play Pool With Water Slides</th>\n",
       "      <th>Library And Business Centre</th>\n",
       "      <th>Meditation Area</th>\n",
       "      <th>Multipurpose Courts</th>\n",
       "      <th>Recreational Pool</th>\n",
       "      <th>Rentable CommuniPfty Space</th>\n",
       "      <th>Retail Boulevard (Retail Shops)</th>\n",
       "      <th>Cycling &amp; Jogging Track</th>\n",
       "      <th>Fire Fighting Equipment</th>\n",
       "      <th>Aesthetically designed landscape garden</th>\n",
       "    </tr>\n",
       "  </thead>\n",
       "  <tbody>\n",
       "    <tr>\n",
       "      <th>2397</th>\n",
       "      <td>Ready to Move</td>\n",
       "      <td>25</td>\n",
       "      <td>N</td>\n",
       "      <td>0.0</td>\n",
       "      <td>4.080000e+10</td>\n",
       "      <td>1.0</td>\n",
       "      <td>5000.0</td>\n",
       "      <td>1200.0</td>\n",
       "      <td>710.0</td>\n",
       "      <td>Y</td>\n",
       "      <td>...</td>\n",
       "      <td>1</td>\n",
       "      <td>1</td>\n",
       "      <td>1</td>\n",
       "      <td>1</td>\n",
       "      <td>1</td>\n",
       "      <td>1</td>\n",
       "      <td>1</td>\n",
       "      <td>1</td>\n",
       "      <td>1</td>\n",
       "      <td>1</td>\n",
       "    </tr>\n",
       "  </tbody>\n",
       "</table>\n",
       "<p>1 rows × 112 columns</p>\n",
       "</div>"
      ],
      "text/plain": [
       "     Possession Status Floor No Commercial  Units Available         Price  \\\n",
       "2397     Ready to Move       25          N              0.0  4.080000e+10   \n",
       "\n",
       "      24H Elec  Maintenance Charges  Covered Area  Carpet Area Society  ...  \\\n",
       "2397       1.0               5000.0        1200.0        710.0       Y  ...   \n",
       "\n",
       "     Kids Play Pool With Water Slides Library And Business Centre  \\\n",
       "2397                                1                           1   \n",
       "\n",
       "      Meditation Area Multipurpose Courts Recreational Pool  \\\n",
       "2397                1                   1                 1   \n",
       "\n",
       "     Rentable CommuniPfty Space  Retail Boulevard (Retail Shops)  \\\n",
       "2397                          1                                1   \n",
       "\n",
       "      Cycling & Jogging Track  Fire Fighting Equipment  \\\n",
       "2397                        1                        1   \n",
       "\n",
       "     Aesthetically designed landscape garden  \n",
       "2397                                       1  \n",
       "\n",
       "[1 rows x 112 columns]"
      ]
     },
     "execution_count": 171,
     "metadata": {},
     "output_type": "execute_result"
    }
   ],
   "source": [
    "data[data['Price'] == data['Price'].max() ]"
   ]
  },
  {
   "cell_type": "code",
   "execution_count": 170,
   "id": "6fe12821-0bf0-42bd-8b85-a3c8c9a3f2ea",
   "metadata": {},
   "outputs": [
    {
     "data": {
      "image/png": "[encoded data removed]",
      "text/plain": [
       "<Figure size 800x600 with 1 Axes>"
      ]
     },
     "metadata": {},
     "output_type": "display_data"
    }
   ],
   "source": [
    "# Set the style of the plot (optional)\n",
    "sns.set(style=\"whitegrid\")\n",
    "\n",
    "# Create a box plot for the 'price' variable\n",
    "plt.figure(figsize=(8, 6))  # Optional: Set the figure size\n",
    "sns.boxplot(x='Price', data=data)\n",
    "plt.title('Box Plot for Price')\n",
    "plt.xlabel('Price')\n",
    "plt.show()\n"
   ]
  },
  {
   "cell_type": "code",
   "execution_count": 164,
   "id": "de2944b7",
   "metadata": {},
   "outputs": [],
   "source": [
    "numeric_features = ['Units Available','Maintenance Charges','Bathroom','floors','balconies',\n",
    "                    'Covered Area','Carpet Area','bedroom'] #,'Floor No'\n",
    "categorical_features = ['Possession Status','Ownership Type','furnished Type','Facing','Property Lifespan',\n",
    "                        'Transaction Type','Type of Property']\n",
    "categorical_features_bin = ['Commercial','Society','24H Water','isPrimeLocationProperty','Commercial','24H Elec','Power Back Up', 'Lift',\n",
    "                            'Rain Water Harvesting', 'Club House', 'Swimming Pool', 'Gymnasium', 'Park', 'Parking.1', 'Security', 'Water Storage',\n",
    "                            'Private Terrace/Garden', 'Vaastu Compliant', 'Service/Goods Lift', 'Air Conditioned', 'Visitor Parking',\n",
    "                            'Intercom Facility', 'Maintenance Staff', 'Waste Disposal', 'Laundry Service', 'Internet/Wi-Fi Connectivity',\n",
    "                            'DTH Television Facility', 'RO Water System', 'Banquet Hall', 'Bar/Lounge', 'Cafeteria/Food Court', 'Conference Room',\n",
    "                            'Piped Gas', 'Jogging and Strolling Track', 'Outdoor Tennis Courts', 'Mansion', 'Downtown', 'Skyline View', \n",
    "                            'Wrap Around Balcony', 'Island Kitchen Layout', 'Full Glass Wall', 'House help accommodation', 'Concierge Services',\n",
    "                            'Garden View', 'Marble flooring', 'Well Furnished', 'Modular Kitchen', 'Helipad', 'Private pool ', 'Private Jaccuzi',\n",
    "                            'Mini Cinema Theatre', 'Golf Course', 'Infinity Swimming Pool', 'Pool with temperature control ', 'Sea facing',\n",
    "                            'Skydeck', 'Earth quake resistant', 'Theme based Architectures', 'Health club with Steam / Jaccuzi', 'Large Clubhouse ',\n",
    "                            'Large Open space', 'Fingerprint Access', 'Grand Entrance lobby', 'Private Garage', 'Fireplace', 'Wine Cellar',\n",
    "                            'Sky Villa', 'Water Front', 'Hilltop', 'Smart Home', 'Barbeque space', 'Kids play area', 'Library', 'Puja Room',\n",
    "                            'Study', 'Servant Room', 'Store', 'Aerobics Room', 'Canopy Walk', 'Coffee Lounge & Restaurants', 'Dance Studio',\n",
    "                            'Event Space & Amphitheatre', 'Flower Gardens', 'Guest Accommodation', 'Indoor Squash & Badminton Courts',\n",
    "                            'Kids Play Area', 'Kids Play Pool With Water Slides', 'Library And Business Centre', 'Meditation Area',\n",
    "                            'Multipurpose Courts', 'Recreational Pool', 'Rentable CommuniPfty Space', 'Retail Boulevard (Retail Shops)',\n",
    "                            'Cycling & Jogging Track', 'Fire Fighting Equipment', 'Aesthetically designed landscape garden']\n"
   ]
  },
  {
   "cell_type": "code",
   "execution_count": 168,
   "id": "ae010104-8dfa-4187-b5e2-86e2e03dda00",
   "metadata": {},
   "outputs": [
    {
     "data": {
      "image/png": "[encoded data removed]",
      "text/plain": [
       "<Figure size 1000x600 with 1 Axes>"
      ]
     },
     "metadata": {},
     "output_type": "display_data"
    }
   ],
   "source": [
    "# Set the style of the plot (optional)\n",
    "sns.set(style=\"whitegrid\")\n",
    "\n",
    "# Create a bar chart with 20 bins for the 'price' variable\n",
    "plt.figure(figsize=(10, 6))  # Optional: Set the figure size\n",
    "sns.histplot(x='Price', bins=20, data=data, kde=True)\n",
    "plt.title('Bar Chart for Price with 20 Bins')\n",
    "plt.xlabel('Price')\n",
    "plt.ylabel('Frequency')\n",
    "plt.show()"
   ]
  },
  {
   "cell_type": "code",
   "execution_count": 163,
   "id": "35da9732-ab98-4c56-a221-d7401767c7cd",
   "metadata": {},
   "outputs": [
    {
     "name": "stdout",
     "output_type": "stream",
     "text": [
      "<class 'pandas.core.frame.DataFrame'>\n",
      "Index: 7890 entries, 2 to 12672\n",
      "Data columns (total 112 columns):\n",
      " #    Column                                   Non-Null Count  Dtype  \n",
      "---   ------                                   --------------  -----  \n",
      " 0    Possession Status                        7890 non-null   object \n",
      " 1    Floor No                                 7485 non-null   object \n",
      " 2    Commercial                               7890 non-null   object \n",
      " 3    Units Available                          7890 non-null   float64\n",
      " 4    Price                                    7890 non-null   float64\n",
      " 5    24H Elec                                 7890 non-null   float64\n",
      " 6    Maintenance Charges                      4968 non-null   float64\n",
      " 7    Covered Area                             7890 non-null   float64\n",
      " 8    Carpet Area                              7890 non-null   float64\n",
      " 9    Society                                  7890 non-null   object \n",
      " 10   Ownership Type                           6949 non-null   object \n",
      " 11   furnished Type                           7879 non-null   object \n",
      " 12   Bathroom                                 7884 non-null   float64\n",
      " 13   Facing                                   6812 non-null   object \n",
      " 14   Transaction Type                         7890 non-null   object \n",
      " 15   Type of Property                         7890 non-null   object \n",
      " 16   bedroom                                  7890 non-null   int64  \n",
      " 17   floors                                   7484 non-null   float64\n",
      " 18   24H Water                                7890 non-null   float64\n",
      " 19   isPrimeLocationProperty                  7890 non-null   object \n",
      " 20   Property Lifespan                        5815 non-null   object \n",
      " 21   balconies                                4206 non-null   float64\n",
      " 22   Power Back Up                            7890 non-null   int64  \n",
      " 23   Lift                                     7890 non-null   int64  \n",
      " 24   Rain Water Harvesting                    7890 non-null   int64  \n",
      " 25   Club House                               7890 non-null   int64  \n",
      " 26   Swimming Pool                            7890 non-null   int64  \n",
      " 27   Gymnasium                                7890 non-null   int64  \n",
      " 28   Park                                     7890 non-null   int64  \n",
      " 29   Parking.1                                7890 non-null   int64  \n",
      " 30   Security                                 7890 non-null   int64  \n",
      " 31   Water Storage                            7890 non-null   int64  \n",
      " 32   Private Terrace/Garden                   7890 non-null   int64  \n",
      " 33   Vaastu Compliant                         7890 non-null   int64  \n",
      " 34   Service/Goods Lift                       7890 non-null   int64  \n",
      " 35   Air Conditioned                          7890 non-null   int64  \n",
      " 36   Visitor Parking                          7890 non-null   int64  \n",
      " 37   Intercom Facility                        7890 non-null   int64  \n",
      " 38   Maintenance Staff                        7890 non-null   int64  \n",
      " 39   Waste Disposal                           7890 non-null   int64  \n",
      " 40   Laundry Service                          7890 non-null   int64  \n",
      " 41   Internet/Wi-Fi Connectivity              7890 non-null   int64  \n",
      " 42   DTH Television Facility                  7890 non-null   int64  \n",
      " 43   RO Water System                          7890 non-null   int64  \n",
      " 44   Banquet Hall                             7890 non-null   int64  \n",
      " 45   Bar/Lounge                               7890 non-null   int64  \n",
      " 46   Cafeteria/Food Court                     7890 non-null   int64  \n",
      " 47   Conference Room                          7890 non-null   int64  \n",
      " 48   Piped Gas                                7890 non-null   int64  \n",
      " 49   Jogging and Strolling Track              7890 non-null   int64  \n",
      " 50   Outdoor Tennis Courts                    7890 non-null   int64  \n",
      " 51   Mansion                                  7890 non-null   int64  \n",
      " 52   Downtown                                 7890 non-null   int64  \n",
      " 53   Skyline View                             7890 non-null   int64  \n",
      " 54   Wrap Around Balcony                      7890 non-null   int64  \n",
      " 55   Island Kitchen Layout                    7890 non-null   int64  \n",
      " 56   Full Glass Wall                          7890 non-null   int64  \n",
      " 57   House help accommodation                 7890 non-null   int64  \n",
      " 58   Concierge Services                       7890 non-null   int64  \n",
      " 59   Garden View                              7890 non-null   int64  \n",
      " 60   Marble flooring                          7890 non-null   int64  \n",
      " 61   Well Furnished                           7890 non-null   int64  \n",
      " 62   Modular Kitchen                          7890 non-null   int64  \n",
      " 63   Helipad                                  7890 non-null   int64  \n",
      " 64   Private pool                             7890 non-null   int64  \n",
      " 65   Private Jaccuzi                          7890 non-null   int64  \n",
      " 66   Mini Cinema Theatre                      7890 non-null   int64  \n",
      " 67   Golf Course                              7890 non-null   int64  \n",
      " 68   Infinity Swimming Pool                   7890 non-null   int64  \n",
      " 69   Pool with temperature control            7890 non-null   int64  \n",
      " 70   Sea facing                               7890 non-null   int64  \n",
      " 71   Skydeck                                  7890 non-null   int64  \n",
      " 72   Earth quake resistant                    7890 non-null   int64  \n",
      " 73   Theme based Architectures                7890 non-null   int64  \n",
      " 74   Health club with Steam / Jaccuzi         7890 non-null   int64  \n",
      " 75   Large Clubhouse                          7890 non-null   int64  \n",
      " 76   Large Open space                         7890 non-null   int64  \n",
      " 77   Fingerprint Access                       7890 non-null   int64  \n",
      " 78   Grand Entrance lobby                     7890 non-null   int64  \n",
      " 79   Private Garage                           7890 non-null   int64  \n",
      " 80   Fireplace                                7890 non-null   int64  \n",
      " 81   Wine Cellar                              7890 non-null   int64  \n",
      " 82   Sky Villa                                7890 non-null   int64  \n",
      " 83   Water Front                              7890 non-null   int64  \n",
      " 84   Hilltop                                  7890 non-null   int64  \n",
      " 85   Smart Home                               7890 non-null   int64  \n",
      " 86   Barbeque space                           7890 non-null   int64  \n",
      " 87   Kids play area                           7890 non-null   int64  \n",
      " 88   Library                                  7890 non-null   int64  \n",
      " 89   Puja Room                                7890 non-null   int64  \n",
      " 90   Study                                    7890 non-null   int64  \n",
      " 91   Servant Room                             7890 non-null   int64  \n",
      " 92   Store                                    7890 non-null   int64  \n",
      " 93   Aerobics Room                            7890 non-null   int64  \n",
      " 94   Canopy Walk                              7890 non-null   int64  \n",
      " 95   Coffee Lounge & Restaurants              7890 non-null   int64  \n",
      " 96   Dance Studio                             7890 non-null   int64  \n",
      " 97   Event Space & Amphitheatre               7890 non-null   int64  \n",
      " 98   Flower Gardens                           7890 non-null   int64  \n",
      " 99   Guest Accommodation                      7890 non-null   int64  \n",
      " 100  Indoor Squash & Badminton Courts         7890 non-null   int64  \n",
      " 101  Kids Play Area                           7890 non-null   int64  \n",
      " 102  Kids Play Pool With Water Slides         7890 non-null   int64  \n",
      " 103  Library And Business Centre              7890 non-null   int64  \n",
      " 104  Meditation Area                          7890 non-null   int64  \n",
      " 105  Multipurpose Courts                      7890 non-null   int64  \n",
      " 106  Recreational Pool                        7890 non-null   int64  \n",
      " 107  Rentable CommuniPfty Space               7890 non-null   int64  \n",
      " 108  Retail Boulevard (Retail Shops)          7890 non-null   int64  \n",
      " 109  Cycling & Jogging Track                  7890 non-null   int64  \n",
      " 110  Fire Fighting Equipment                  7890 non-null   int64  \n",
      " 111  Aesthetically designed landscape garden  7890 non-null   int64  \n",
      "dtypes: float64(10), int64(91), object(11)\n",
      "memory usage: 6.8+ MB\n"
     ]
    }
   ],
   "source": [
    "pd.options.display.max_info_columns = 200 \n",
    "data.info()"
   ]
  },
  {
   "cell_type": "code",
   "execution_count": 165,
   "id": "5be1b0d1-6a5a-4346-9a56-aefa478b30b0",
   "metadata": {},
   "outputs": [
    {
     "name": "stdout",
     "output_type": "stream",
     "text": [
      "Units Available\n"
     ]
    },
    {
     "data": {
      "image/png": "[encoded data removed]",
      "text/plain": [
       "<Figure size 800x600 with 1 Axes>"
      ]
     },
     "metadata": {},
     "output_type": "display_data"
    },
    {
     "name": "stdout",
     "output_type": "stream",
     "text": [
      "Maintenance Charges\n"
     ]
    },
    {
     "data": {
      "image/png": "[encoded data removed]",
      "text/plain": [
       "<Figure size 800x600 with 1 Axes>"
      ]
     },
     "metadata": {},
     "output_type": "display_data"
    },
    {
     "name": "stdout",
     "output_type": "stream",
     "text": [
      "Bathroom\n"
     ]
    },
    {
     "data": {
      "image/png": "[encoded data removed]",
      "text/plain": [
       "<Figure size 800x600 with 1 Axes>"
      ]
     },
     "metadata": {},
     "output_type": "display_data"
    },
    {
     "name": "stdout",
     "output_type": "stream",
     "text": [
      "floors\n"
     ]
    },
    {
     "data": {
      "image/png": "[encoded data removed]",
      "text/plain": [
       "<Figure size 800x600 with 1 Axes>"
      ]
     },
     "metadata": {},
     "output_type": "display_data"
    },
    {
     "name": "stdout",
     "output_type": "stream",
     "text": [
      "balconies\n"
     ]
    },
    {
     "data": {
      "image/png": "[encoded data removed]",
      "text/plain": [
       "<Figure size 800x600 with 1 Axes>"
      ]
     },
     "metadata": {},
     "output_type": "display_data"
    },
    {
     "name": "stdout",
     "output_type": "stream",
     "text": [
      "Covered Area\n"
     ]
    },
    {
     "data": {
      "image/png": "[encoded data removed]",
      "text/plain": [
       "<Figure size 800x600 with 1 Axes>"
      ]
     },
     "metadata": {},
     "output_type": "display_data"
    },
    {
     "name": "stdout",
     "output_type": "stream",
     "text": [
      "Carpet Area\n"
     ]
    },
    {
     "data": {
      "image/png": "[encoded data removed]",
      "text/plain": [
       "<Figure size 800x600 with 1 Axes>"
      ]
     },
     "metadata": {},
     "output_type": "display_data"
    },
    {
     "name": "stdout",
     "output_type": "stream",
     "text": [
      "bedroom\n"
     ]
    },
    {
     "data": {
      "image/png": "[encoded data removed]",
      "text/plain": [
       "<Figure size 800x600 with 1 Axes>"
      ]
     },
     "metadata": {},
     "output_type": "display_data"
    }
   ],
   "source": [
    "import seaborn as sns\n",
    "import matplotlib.pyplot as plt\n",
    "\n",
    "# Assuming you have a DataFrame called 'df' with your data\n",
    "# Replace 'numeric_variable' with the actual names of your numeric colum\n",
    "# Set the style of the plots (optional)\n",
    "sns.set(style=\"whitegrid\")\n",
    "\n",
    "# Create a scatter plot for each numeric variable against the target 'price'\n",
    "for col in numeric_features:\n",
    "    print(col)\n",
    "    plt.figure(figsize=(8, 6))  # Optional: Set the figure size\n",
    "    sns.scatterplot(x=col, y='Price', data=data)\n",
    "    plt.title(f'Scatter Plot between {col} and Price')\n",
    "    plt.xlabel(col)\n",
    "    plt.ylabel('Price')\n",
    "    plt.show()"
   ]
  },
  {
   "cell_type": "code",
   "execution_count": null,
   "id": "44d641fc-b23b-4751-b87f-1fea17662fc8",
   "metadata": {},
   "outputs": [],
   "source": [
    "alt.data_transformers.disable_max_rows()  # Allows us to plot big datasets\n",
    "\n",
    "alt.Chart(train_df.sort_values('income')).mark_bar(opacity=0.6).encode(\n",
    "    alt.X(alt.repeat(), type='quantitative', bin=alt.Bin(maxbins=50)),\n",
    "    alt.Y('count()', stack=None),\n",
    "    alt.Color('income')\n",
    ").properties(\n",
    "    height=200\n",
    ").repeat(\n",
    "    train_df_nan.select_dtypes('number').columns.to_list(),\n",
    "    columns=2\n",
    ")"
   ]
  },
  {
   "cell_type": "code",
   "execution_count": 134,
   "id": "056b99ac-f74f-481b-a55b-4a46d96fda9b",
   "metadata": {},
   "outputs": [
    {
     "data": {
      "text/html": [
       "<style>#sk-container-id-9 {color: black;}#sk-container-id-9 pre{padding: 0;}#sk-container-id-9 div.sk-toggleable {background-color: white;}#sk-container-id-9 label.sk-toggleable__label {cursor: pointer;display: block;width: 100%;margin-bottom: 0;padding: 0.3em;box-sizing: border-box;text-align: center;}#sk-container-id-9 label.sk-toggleable__label-arrow:before {content: \"▸\";float: left;margin-right: 0.25em;color: #696969;}#sk-container-id-9 label.sk-toggleable__label-arrow:hover:before {color: black;}#sk-container-id-9 div.sk-estimator:hover label.sk-toggleable__label-arrow:before {color: black;}#sk-container-id-9 div.sk-toggleable__content {max-height: 0;max-width: 0;overflow: hidden;text-align: left;background-color: #f0f8ff;}#sk-container-id-9 div.sk-toggleable__content pre {margin: 0.2em;color: black;border-radius: 0.25em;background-color: #f0f8ff;}#sk-container-id-9 input.sk-toggleable__control:checked~div.sk-toggleable__content {max-height: 200px;max-width: 100%;overflow: auto;}#sk-container-id-9 input.sk-toggleable__control:checked~label.sk-toggleable__label-arrow:before {content: \"▾\";}#sk-container-id-9 div.sk-estimator input.sk-toggleable__control:checked~label.sk-toggleable__label {background-color: #d4ebff;}#sk-container-id-9 div.sk-label input.sk-toggleable__control:checked~label.sk-toggleable__label {background-color: #d4ebff;}#sk-container-id-9 input.sk-hidden--visually {border: 0;clip: rect(1px 1px 1px 1px);clip: rect(1px, 1px, 1px, 1px);height: 1px;margin: -1px;overflow: hidden;padding: 0;position: absolute;width: 1px;}#sk-container-id-9 div.sk-estimator {font-family: monospace;background-color: #f0f8ff;border: 1px dotted black;border-radius: 0.25em;box-sizing: border-box;margin-bottom: 0.5em;}#sk-container-id-9 div.sk-estimator:hover {background-color: #d4ebff;}#sk-container-id-9 div.sk-parallel-item::after {content: \"\";width: 100%;border-bottom: 1px solid gray;flex-grow: 1;}#sk-container-id-9 div.sk-label:hover label.sk-toggleable__label {background-color: #d4ebff;}#sk-container-id-9 div.sk-serial::before {content: \"\";position: absolute;border-left: 1px solid gray;box-sizing: border-box;top: 0;bottom: 0;left: 50%;z-index: 0;}#sk-container-id-9 div.sk-serial {display: flex;flex-direction: column;align-items: center;background-color: white;padding-right: 0.2em;padding-left: 0.2em;position: relative;}#sk-container-id-9 div.sk-item {position: relative;z-index: 1;}#sk-container-id-9 div.sk-parallel {display: flex;align-items: stretch;justify-content: center;background-color: white;position: relative;}#sk-container-id-9 div.sk-item::before, #sk-container-id-9 div.sk-parallel-item::before {content: \"\";position: absolute;border-left: 1px solid gray;box-sizing: border-box;top: 0;bottom: 0;left: 50%;z-index: -1;}#sk-container-id-9 div.sk-parallel-item {display: flex;flex-direction: column;z-index: 1;position: relative;background-color: white;}#sk-container-id-9 div.sk-parallel-item:first-child::after {align-self: flex-end;width: 50%;}#sk-container-id-9 div.sk-parallel-item:last-child::after {align-self: flex-start;width: 50%;}#sk-container-id-9 div.sk-parallel-item:only-child::after {width: 0;}#sk-container-id-9 div.sk-dashed-wrapped {border: 1px dashed gray;margin: 0 0.4em 0.5em 0.4em;box-sizing: border-box;padding-bottom: 0.4em;background-color: white;}#sk-container-id-9 div.sk-label label {font-family: monospace;font-weight: bold;display: inline-block;line-height: 1.2em;}#sk-container-id-9 div.sk-label-container {text-align: center;}#sk-container-id-9 div.sk-container {/* jupyter's `normalize.less` sets `[hidden] { display: none; }` but bootstrap.min.css set `[hidden] { display: none !important; }` so we also need the `!important` here to be able to override the default hidden behavior on the sphinx rendered scikit-learn.org. See: https://github.com/scikit-learn/scikit-learn/issues/21755 */display: inline-block !important;position: relative;}#sk-container-id-9 div.sk-text-repr-fallback {display: none;}</style><div id=\"sk-container-id-9\" class=\"sk-top-container\"><div class=\"sk-text-repr-fallback\"><pre>Pipeline(steps=[(&#x27;scaler&#x27;, StandardScaler()),\n",
       "                (&#x27;imputer&#x27;, SimpleImputer(strategy=&#x27;most_frequent&#x27;))])</pre><b>In a Jupyter environment, please rerun this cell to show the HTML representation or trust the notebook. <br />On GitHub, the HTML representation is unable to render, please try loading this page with nbviewer.org.</b></div><div class=\"sk-container\" hidden><div class=\"sk-item sk-dashed-wrapped\"><div class=\"sk-label-container\"><div class=\"sk-label sk-toggleable\"><input class=\"sk-toggleable__control sk-hidden--visually\" id=\"sk-estimator-id-35\" type=\"checkbox\" ><label for=\"sk-estimator-id-35\" class=\"sk-toggleable__label sk-toggleable__label-arrow\">Pipeline</label><div class=\"sk-toggleable__content\"><pre>Pipeline(steps=[(&#x27;scaler&#x27;, StandardScaler()),\n",
       "                (&#x27;imputer&#x27;, SimpleImputer(strategy=&#x27;most_frequent&#x27;))])</pre></div></div></div><div class=\"sk-serial\"><div class=\"sk-item\"><div class=\"sk-estimator sk-toggleable\"><input class=\"sk-toggleable__control sk-hidden--visually\" id=\"sk-estimator-id-36\" type=\"checkbox\" ><label for=\"sk-estimator-id-36\" class=\"sk-toggleable__label sk-toggleable__label-arrow\">StandardScaler</label><div class=\"sk-toggleable__content\"><pre>StandardScaler()</pre></div></div></div><div class=\"sk-item\"><div class=\"sk-estimator sk-toggleable\"><input class=\"sk-toggleable__control sk-hidden--visually\" id=\"sk-estimator-id-37\" type=\"checkbox\" ><label for=\"sk-estimator-id-37\" class=\"sk-toggleable__label sk-toggleable__label-arrow\">SimpleImputer</label><div class=\"sk-toggleable__content\"><pre>SimpleImputer(strategy=&#x27;most_frequent&#x27;)</pre></div></div></div></div></div></div></div>"
      ],
      "text/plain": [
       "Pipeline(steps=[('scaler', StandardScaler()),\n",
       "                ('imputer', SimpleImputer(strategy='most_frequent'))])"
      ]
     },
     "execution_count": 134,
     "metadata": {},
     "output_type": "execute_result"
    }
   ],
   "source": [
    "numeric_transformer = Pipeline([\n",
    "        (\"scaler\", StandardScaler()),\n",
    "        (\"imputer\", SimpleImputer(strategy=\"most_frequent\"))\n",
    "        ])\n",
    "numeric_transformer"
   ]
  },
  {
   "cell_type": "code",
   "execution_count": 135,
   "id": "06c0e0dc-c05d-40e5-94f2-f61e0a1ca792",
   "metadata": {},
   "outputs": [
    {
     "data": {
      "text/html": [
       "<style>#sk-container-id-10 {color: black;}#sk-container-id-10 pre{padding: 0;}#sk-container-id-10 div.sk-toggleable {background-color: white;}#sk-container-id-10 label.sk-toggleable__label {cursor: pointer;display: block;width: 100%;margin-bottom: 0;padding: 0.3em;box-sizing: border-box;text-align: center;}#sk-container-id-10 label.sk-toggleable__label-arrow:before {content: \"▸\";float: left;margin-right: 0.25em;color: #696969;}#sk-container-id-10 label.sk-toggleable__label-arrow:hover:before {color: black;}#sk-container-id-10 div.sk-estimator:hover label.sk-toggleable__label-arrow:before {color: black;}#sk-container-id-10 div.sk-toggleable__content {max-height: 0;max-width: 0;overflow: hidden;text-align: left;background-color: #f0f8ff;}#sk-container-id-10 div.sk-toggleable__content pre {margin: 0.2em;color: black;border-radius: 0.25em;background-color: #f0f8ff;}#sk-container-id-10 input.sk-toggleable__control:checked~div.sk-toggleable__content {max-height: 200px;max-width: 100%;overflow: auto;}#sk-container-id-10 input.sk-toggleable__control:checked~label.sk-toggleable__label-arrow:before {content: \"▾\";}#sk-container-id-10 div.sk-estimator input.sk-toggleable__control:checked~label.sk-toggleable__label {background-color: #d4ebff;}#sk-container-id-10 div.sk-label input.sk-toggleable__control:checked~label.sk-toggleable__label {background-color: #d4ebff;}#sk-container-id-10 input.sk-hidden--visually {border: 0;clip: rect(1px 1px 1px 1px);clip: rect(1px, 1px, 1px, 1px);height: 1px;margin: -1px;overflow: hidden;padding: 0;position: absolute;width: 1px;}#sk-container-id-10 div.sk-estimator {font-family: monospace;background-color: #f0f8ff;border: 1px dotted black;border-radius: 0.25em;box-sizing: border-box;margin-bottom: 0.5em;}#sk-container-id-10 div.sk-estimator:hover {background-color: #d4ebff;}#sk-container-id-10 div.sk-parallel-item::after {content: \"\";width: 100%;border-bottom: 1px solid gray;flex-grow: 1;}#sk-container-id-10 div.sk-label:hover label.sk-toggleable__label {background-color: #d4ebff;}#sk-container-id-10 div.sk-serial::before {content: \"\";position: absolute;border-left: 1px solid gray;box-sizing: border-box;top: 0;bottom: 0;left: 50%;z-index: 0;}#sk-container-id-10 div.sk-serial {display: flex;flex-direction: column;align-items: center;background-color: white;padding-right: 0.2em;padding-left: 0.2em;position: relative;}#sk-container-id-10 div.sk-item {position: relative;z-index: 1;}#sk-container-id-10 div.sk-parallel {display: flex;align-items: stretch;justify-content: center;background-color: white;position: relative;}#sk-container-id-10 div.sk-item::before, #sk-container-id-10 div.sk-parallel-item::before {content: \"\";position: absolute;border-left: 1px solid gray;box-sizing: border-box;top: 0;bottom: 0;left: 50%;z-index: -1;}#sk-container-id-10 div.sk-parallel-item {display: flex;flex-direction: column;z-index: 1;position: relative;background-color: white;}#sk-container-id-10 div.sk-parallel-item:first-child::after {align-self: flex-end;width: 50%;}#sk-container-id-10 div.sk-parallel-item:last-child::after {align-self: flex-start;width: 50%;}#sk-container-id-10 div.sk-parallel-item:only-child::after {width: 0;}#sk-container-id-10 div.sk-dashed-wrapped {border: 1px dashed gray;margin: 0 0.4em 0.5em 0.4em;box-sizing: border-box;padding-bottom: 0.4em;background-color: white;}#sk-container-id-10 div.sk-label label {font-family: monospace;font-weight: bold;display: inline-block;line-height: 1.2em;}#sk-container-id-10 div.sk-label-container {text-align: center;}#sk-container-id-10 div.sk-container {/* jupyter's `normalize.less` sets `[hidden] { display: none; }` but bootstrap.min.css set `[hidden] { display: none !important; }` so we also need the `!important` here to be able to override the default hidden behavior on the sphinx rendered scikit-learn.org. See: https://github.com/scikit-learn/scikit-learn/issues/21755 */display: inline-block !important;position: relative;}#sk-container-id-10 div.sk-text-repr-fallback {display: none;}</style><div id=\"sk-container-id-10\" class=\"sk-top-container\"><div class=\"sk-text-repr-fallback\"><pre>Pipeline(steps=[(&#x27;imputer&#x27;, SimpleImputer(strategy=&#x27;most_frequent&#x27;)),\n",
       "                (&#x27;OneHot&#x27;,\n",
       "                 OneHotEncoder(dtype=&#x27;int&#x27;, handle_unknown=&#x27;ignore&#x27;))])</pre><b>In a Jupyter environment, please rerun this cell to show the HTML representation or trust the notebook. <br />On GitHub, the HTML representation is unable to render, please try loading this page with nbviewer.org.</b></div><div class=\"sk-container\" hidden><div class=\"sk-item sk-dashed-wrapped\"><div class=\"sk-label-container\"><div class=\"sk-label sk-toggleable\"><input class=\"sk-toggleable__control sk-hidden--visually\" id=\"sk-estimator-id-38\" type=\"checkbox\" ><label for=\"sk-estimator-id-38\" class=\"sk-toggleable__label sk-toggleable__label-arrow\">Pipeline</label><div class=\"sk-toggleable__content\"><pre>Pipeline(steps=[(&#x27;imputer&#x27;, SimpleImputer(strategy=&#x27;most_frequent&#x27;)),\n",
       "                (&#x27;OneHot&#x27;,\n",
       "                 OneHotEncoder(dtype=&#x27;int&#x27;, handle_unknown=&#x27;ignore&#x27;))])</pre></div></div></div><div class=\"sk-serial\"><div class=\"sk-item\"><div class=\"sk-estimator sk-toggleable\"><input class=\"sk-toggleable__control sk-hidden--visually\" id=\"sk-estimator-id-39\" type=\"checkbox\" ><label for=\"sk-estimator-id-39\" class=\"sk-toggleable__label sk-toggleable__label-arrow\">SimpleImputer</label><div class=\"sk-toggleable__content\"><pre>SimpleImputer(strategy=&#x27;most_frequent&#x27;)</pre></div></div></div><div class=\"sk-item\"><div class=\"sk-estimator sk-toggleable\"><input class=\"sk-toggleable__control sk-hidden--visually\" id=\"sk-estimator-id-40\" type=\"checkbox\" ><label for=\"sk-estimator-id-40\" class=\"sk-toggleable__label sk-toggleable__label-arrow\">OneHotEncoder</label><div class=\"sk-toggleable__content\"><pre>OneHotEncoder(dtype=&#x27;int&#x27;, handle_unknown=&#x27;ignore&#x27;)</pre></div></div></div></div></div></div></div>"
      ],
      "text/plain": [
       "Pipeline(steps=[('imputer', SimpleImputer(strategy='most_frequent')),\n",
       "                ('OneHot',\n",
       "                 OneHotEncoder(dtype='int', handle_unknown='ignore'))])"
      ]
     },
     "execution_count": 135,
     "metadata": {},
     "output_type": "execute_result"
    }
   ],
   "source": [
    "categorical_transformer = Pipeline([\n",
    "        (\"imputer\", SimpleImputer(strategy=\"most_frequent\")),\n",
    "        (\"OneHot\",OneHotEncoder(handle_unknown=\"ignore\", dtype=\"int\"))\n",
    "])\n",
    "categorical_transformer"
   ]
  },
  {
   "cell_type": "code",
   "execution_count": 136,
   "id": "822ea4fc-ff83-43d6-80de-e040c5f6e516",
   "metadata": {},
   "outputs": [
    {
     "data": {
      "text/html": [
       "<style>#sk-container-id-11 {color: black;}#sk-container-id-11 pre{padding: 0;}#sk-container-id-11 div.sk-toggleable {background-color: white;}#sk-container-id-11 label.sk-toggleable__label {cursor: pointer;display: block;width: 100%;margin-bottom: 0;padding: 0.3em;box-sizing: border-box;text-align: center;}#sk-container-id-11 label.sk-toggleable__label-arrow:before {content: \"▸\";float: left;margin-right: 0.25em;color: #696969;}#sk-container-id-11 label.sk-toggleable__label-arrow:hover:before {color: black;}#sk-container-id-11 div.sk-estimator:hover label.sk-toggleable__label-arrow:before {color: black;}#sk-container-id-11 div.sk-toggleable__content {max-height: 0;max-width: 0;overflow: hidden;text-align: left;background-color: #f0f8ff;}#sk-container-id-11 div.sk-toggleable__content pre {margin: 0.2em;color: black;border-radius: 0.25em;background-color: #f0f8ff;}#sk-container-id-11 input.sk-toggleable__control:checked~div.sk-toggleable__content {max-height: 200px;max-width: 100%;overflow: auto;}#sk-container-id-11 input.sk-toggleable__control:checked~label.sk-toggleable__label-arrow:before {content: \"▾\";}#sk-container-id-11 div.sk-estimator input.sk-toggleable__control:checked~label.sk-toggleable__label {background-color: #d4ebff;}#sk-container-id-11 div.sk-label input.sk-toggleable__control:checked~label.sk-toggleable__label {background-color: #d4ebff;}#sk-container-id-11 input.sk-hidden--visually {border: 0;clip: rect(1px 1px 1px 1px);clip: rect(1px, 1px, 1px, 1px);height: 1px;margin: -1px;overflow: hidden;padding: 0;position: absolute;width: 1px;}#sk-container-id-11 div.sk-estimator {font-family: monospace;background-color: #f0f8ff;border: 1px dotted black;border-radius: 0.25em;box-sizing: border-box;margin-bottom: 0.5em;}#sk-container-id-11 div.sk-estimator:hover {background-color: #d4ebff;}#sk-container-id-11 div.sk-parallel-item::after {content: \"\";width: 100%;border-bottom: 1px solid gray;flex-grow: 1;}#sk-container-id-11 div.sk-label:hover label.sk-toggleable__label {background-color: #d4ebff;}#sk-container-id-11 div.sk-serial::before {content: \"\";position: absolute;border-left: 1px solid gray;box-sizing: border-box;top: 0;bottom: 0;left: 50%;z-index: 0;}#sk-container-id-11 div.sk-serial {display: flex;flex-direction: column;align-items: center;background-color: white;padding-right: 0.2em;padding-left: 0.2em;position: relative;}#sk-container-id-11 div.sk-item {position: relative;z-index: 1;}#sk-container-id-11 div.sk-parallel {display: flex;align-items: stretch;justify-content: center;background-color: white;position: relative;}#sk-container-id-11 div.sk-item::before, #sk-container-id-11 div.sk-parallel-item::before {content: \"\";position: absolute;border-left: 1px solid gray;box-sizing: border-box;top: 0;bottom: 0;left: 50%;z-index: -1;}#sk-container-id-11 div.sk-parallel-item {display: flex;flex-direction: column;z-index: 1;position: relative;background-color: white;}#sk-container-id-11 div.sk-parallel-item:first-child::after {align-self: flex-end;width: 50%;}#sk-container-id-11 div.sk-parallel-item:last-child::after {align-self: flex-start;width: 50%;}#sk-container-id-11 div.sk-parallel-item:only-child::after {width: 0;}#sk-container-id-11 div.sk-dashed-wrapped {border: 1px dashed gray;margin: 0 0.4em 0.5em 0.4em;box-sizing: border-box;padding-bottom: 0.4em;background-color: white;}#sk-container-id-11 div.sk-label label {font-family: monospace;font-weight: bold;display: inline-block;line-height: 1.2em;}#sk-container-id-11 div.sk-label-container {text-align: center;}#sk-container-id-11 div.sk-container {/* jupyter's `normalize.less` sets `[hidden] { display: none; }` but bootstrap.min.css set `[hidden] { display: none !important; }` so we also need the `!important` here to be able to override the default hidden behavior on the sphinx rendered scikit-learn.org. See: https://github.com/scikit-learn/scikit-learn/issues/21755 */display: inline-block !important;position: relative;}#sk-container-id-11 div.sk-text-repr-fallback {display: none;}</style><div id=\"sk-container-id-11\" class=\"sk-top-container\"><div class=\"sk-text-repr-fallback\"><pre>Pipeline(steps=[(&#x27;OneHotBinary&#x27;,\n",
       "                 OneHotEncoder(drop=&#x27;if_binary&#x27;, dtype=&#x27;int&#x27;,\n",
       "                               sparse_output=False))])</pre><b>In a Jupyter environment, please rerun this cell to show the HTML representation or trust the notebook. <br />On GitHub, the HTML representation is unable to render, please try loading this page with nbviewer.org.</b></div><div class=\"sk-container\" hidden><div class=\"sk-item sk-dashed-wrapped\"><div class=\"sk-label-container\"><div class=\"sk-label sk-toggleable\"><input class=\"sk-toggleable__control sk-hidden--visually\" id=\"sk-estimator-id-41\" type=\"checkbox\" ><label for=\"sk-estimator-id-41\" class=\"sk-toggleable__label sk-toggleable__label-arrow\">Pipeline</label><div class=\"sk-toggleable__content\"><pre>Pipeline(steps=[(&#x27;OneHotBinary&#x27;,\n",
       "                 OneHotEncoder(drop=&#x27;if_binary&#x27;, dtype=&#x27;int&#x27;,\n",
       "                               sparse_output=False))])</pre></div></div></div><div class=\"sk-serial\"><div class=\"sk-item\"><div class=\"sk-estimator sk-toggleable\"><input class=\"sk-toggleable__control sk-hidden--visually\" id=\"sk-estimator-id-42\" type=\"checkbox\" ><label for=\"sk-estimator-id-42\" class=\"sk-toggleable__label sk-toggleable__label-arrow\">OneHotEncoder</label><div class=\"sk-toggleable__content\"><pre>OneHotEncoder(drop=&#x27;if_binary&#x27;, dtype=&#x27;int&#x27;, sparse_output=False)</pre></div></div></div></div></div></div></div>"
      ],
      "text/plain": [
       "Pipeline(steps=[('OneHotBinary',\n",
       "                 OneHotEncoder(drop='if_binary', dtype='int',\n",
       "                               sparse_output=False))])"
      ]
     },
     "execution_count": 136,
     "metadata": {},
     "output_type": "execute_result"
    }
   ],
   "source": [
    "categorical_bin_transformer = Pipeline([\n",
    "        (\"OneHotBinary\",OneHotEncoder(sparse_output=False, dtype='int', drop=\"if_binary\"))\n",
    "])\n",
    "categorical_bin_transformer"
   ]
  },
  {
   "cell_type": "code",
   "execution_count": 137,
   "id": "2cbe11f6-4d68-4fdd-ac69-12c98e51ea2a",
   "metadata": {},
   "outputs": [
    {
     "data": {
      "text/html": [
       "<style>#sk-container-id-12 {color: black;}#sk-container-id-12 pre{padding: 0;}#sk-container-id-12 div.sk-toggleable {background-color: white;}#sk-container-id-12 label.sk-toggleable__label {cursor: pointer;display: block;width: 100%;margin-bottom: 0;padding: 0.3em;box-sizing: border-box;text-align: center;}#sk-container-id-12 label.sk-toggleable__label-arrow:before {content: \"▸\";float: left;margin-right: 0.25em;color: #696969;}#sk-container-id-12 label.sk-toggleable__label-arrow:hover:before {color: black;}#sk-container-id-12 div.sk-estimator:hover label.sk-toggleable__label-arrow:before {color: black;}#sk-container-id-12 div.sk-toggleable__content {max-height: 0;max-width: 0;overflow: hidden;text-align: left;background-color: #f0f8ff;}#sk-container-id-12 div.sk-toggleable__content pre {margin: 0.2em;color: black;border-radius: 0.25em;background-color: #f0f8ff;}#sk-container-id-12 input.sk-toggleable__control:checked~div.sk-toggleable__content {max-height: 200px;max-width: 100%;overflow: auto;}#sk-container-id-12 input.sk-toggleable__control:checked~label.sk-toggleable__label-arrow:before {content: \"▾\";}#sk-container-id-12 div.sk-estimator input.sk-toggleable__control:checked~label.sk-toggleable__label {background-color: #d4ebff;}#sk-container-id-12 div.sk-label input.sk-toggleable__control:checked~label.sk-toggleable__label {background-color: #d4ebff;}#sk-container-id-12 input.sk-hidden--visually {border: 0;clip: rect(1px 1px 1px 1px);clip: rect(1px, 1px, 1px, 1px);height: 1px;margin: -1px;overflow: hidden;padding: 0;position: absolute;width: 1px;}#sk-container-id-12 div.sk-estimator {font-family: monospace;background-color: #f0f8ff;border: 1px dotted black;border-radius: 0.25em;box-sizing: border-box;margin-bottom: 0.5em;}#sk-container-id-12 div.sk-estimator:hover {background-color: #d4ebff;}#sk-container-id-12 div.sk-parallel-item::after {content: \"\";width: 100%;border-bottom: 1px solid gray;flex-grow: 1;}#sk-container-id-12 div.sk-label:hover label.sk-toggleable__label {background-color: #d4ebff;}#sk-container-id-12 div.sk-serial::before {content: \"\";position: absolute;border-left: 1px solid gray;box-sizing: border-box;top: 0;bottom: 0;left: 50%;z-index: 0;}#sk-container-id-12 div.sk-serial {display: flex;flex-direction: column;align-items: center;background-color: white;padding-right: 0.2em;padding-left: 0.2em;position: relative;}#sk-container-id-12 div.sk-item {position: relative;z-index: 1;}#sk-container-id-12 div.sk-parallel {display: flex;align-items: stretch;justify-content: center;background-color: white;position: relative;}#sk-container-id-12 div.sk-item::before, #sk-container-id-12 div.sk-parallel-item::before {content: \"\";position: absolute;border-left: 1px solid gray;box-sizing: border-box;top: 0;bottom: 0;left: 50%;z-index: -1;}#sk-container-id-12 div.sk-parallel-item {display: flex;flex-direction: column;z-index: 1;position: relative;background-color: white;}#sk-container-id-12 div.sk-parallel-item:first-child::after {align-self: flex-end;width: 50%;}#sk-container-id-12 div.sk-parallel-item:last-child::after {align-self: flex-start;width: 50%;}#sk-container-id-12 div.sk-parallel-item:only-child::after {width: 0;}#sk-container-id-12 div.sk-dashed-wrapped {border: 1px dashed gray;margin: 0 0.4em 0.5em 0.4em;box-sizing: border-box;padding-bottom: 0.4em;background-color: white;}#sk-container-id-12 div.sk-label label {font-family: monospace;font-weight: bold;display: inline-block;line-height: 1.2em;}#sk-container-id-12 div.sk-label-container {text-align: center;}#sk-container-id-12 div.sk-container {/* jupyter's `normalize.less` sets `[hidden] { display: none; }` but bootstrap.min.css set `[hidden] { display: none !important; }` so we also need the `!important` here to be able to override the default hidden behavior on the sphinx rendered scikit-learn.org. See: https://github.com/scikit-learn/scikit-learn/issues/21755 */display: inline-block !important;position: relative;}#sk-container-id-12 div.sk-text-repr-fallback {display: none;}</style><div id=\"sk-container-id-12\" class=\"sk-top-container\"><div class=\"sk-text-repr-fallback\"><pre>ColumnTransformer(transformers=[(&#x27;numeric&#x27;,\n",
       "                                 Pipeline(steps=[(&#x27;scaler&#x27;, StandardScaler()),\n",
       "                                                 (&#x27;imputer&#x27;,\n",
       "                                                  SimpleImputer(strategy=&#x27;most_frequent&#x27;))]),\n",
       "                                 [&#x27;Units Available&#x27;, &#x27;Floor No&#x27;,\n",
       "                                  &#x27;Maintenance Charges&#x27;, &#x27;Bathroom&#x27;, &#x27;floors&#x27;,\n",
       "                                  &#x27;balconies&#x27;, &#x27;Covered Area&#x27;, &#x27;Carpet Area&#x27;,\n",
       "                                  &#x27;bedroom&#x27;]),\n",
       "                                (&#x27;categorical&#x27;,\n",
       "                                 Pipeline(steps=[(&#x27;imputer&#x27;,\n",
       "                                                  SimpleImputer(strategy=&#x27;most_frequent&#x27;)),\n",
       "                                                 (&#x27;OneH...\n",
       "                                  &#x27;Rain Water Harvesting&#x27;, &#x27;Club House&#x27;,\n",
       "                                  &#x27;Swimming Pool&#x27;, &#x27;Gymnasium&#x27;, &#x27;Park&#x27;,\n",
       "                                  &#x27;Parking.1&#x27;, &#x27;Security&#x27;, &#x27;Water Storage&#x27;,\n",
       "                                  &#x27;Private Terrace/Garden&#x27;, &#x27;Vaastu Compliant&#x27;,\n",
       "                                  &#x27;Service/Goods Lift&#x27;, &#x27;Air Conditioned&#x27;,\n",
       "                                  &#x27;Visitor Parking&#x27;, &#x27;Intercom Facility&#x27;,\n",
       "                                  &#x27;Maintenance Staff&#x27;, &#x27;Waste Disposal&#x27;,\n",
       "                                  &#x27;Laundry Service&#x27;,\n",
       "                                  &#x27;Internet/Wi-Fi Connectivity&#x27;,\n",
       "                                  &#x27;DTH Television Facility&#x27;, &#x27;RO Water System&#x27;,\n",
       "                                  &#x27;Banquet Hall&#x27;, &#x27;Bar/Lounge&#x27;, ...])])</pre><b>In a Jupyter environment, please rerun this cell to show the HTML representation or trust the notebook. <br />On GitHub, the HTML representation is unable to render, please try loading this page with nbviewer.org.</b></div><div class=\"sk-container\" hidden><div class=\"sk-item sk-dashed-wrapped\"><div class=\"sk-label-container\"><div class=\"sk-label sk-toggleable\"><input class=\"sk-toggleable__control sk-hidden--visually\" id=\"sk-estimator-id-43\" type=\"checkbox\" ><label for=\"sk-estimator-id-43\" class=\"sk-toggleable__label sk-toggleable__label-arrow\">ColumnTransformer</label><div class=\"sk-toggleable__content\"><pre>ColumnTransformer(transformers=[(&#x27;numeric&#x27;,\n",
       "                                 Pipeline(steps=[(&#x27;scaler&#x27;, StandardScaler()),\n",
       "                                                 (&#x27;imputer&#x27;,\n",
       "                                                  SimpleImputer(strategy=&#x27;most_frequent&#x27;))]),\n",
       "                                 [&#x27;Units Available&#x27;, &#x27;Floor No&#x27;,\n",
       "                                  &#x27;Maintenance Charges&#x27;, &#x27;Bathroom&#x27;, &#x27;floors&#x27;,\n",
       "                                  &#x27;balconies&#x27;, &#x27;Covered Area&#x27;, &#x27;Carpet Area&#x27;,\n",
       "                                  &#x27;bedroom&#x27;]),\n",
       "                                (&#x27;categorical&#x27;,\n",
       "                                 Pipeline(steps=[(&#x27;imputer&#x27;,\n",
       "                                                  SimpleImputer(strategy=&#x27;most_frequent&#x27;)),\n",
       "                                                 (&#x27;OneH...\n",
       "                                  &#x27;Rain Water Harvesting&#x27;, &#x27;Club House&#x27;,\n",
       "                                  &#x27;Swimming Pool&#x27;, &#x27;Gymnasium&#x27;, &#x27;Park&#x27;,\n",
       "                                  &#x27;Parking.1&#x27;, &#x27;Security&#x27;, &#x27;Water Storage&#x27;,\n",
       "                                  &#x27;Private Terrace/Garden&#x27;, &#x27;Vaastu Compliant&#x27;,\n",
       "                                  &#x27;Service/Goods Lift&#x27;, &#x27;Air Conditioned&#x27;,\n",
       "                                  &#x27;Visitor Parking&#x27;, &#x27;Intercom Facility&#x27;,\n",
       "                                  &#x27;Maintenance Staff&#x27;, &#x27;Waste Disposal&#x27;,\n",
       "                                  &#x27;Laundry Service&#x27;,\n",
       "                                  &#x27;Internet/Wi-Fi Connectivity&#x27;,\n",
       "                                  &#x27;DTH Television Facility&#x27;, &#x27;RO Water System&#x27;,\n",
       "                                  &#x27;Banquet Hall&#x27;, &#x27;Bar/Lounge&#x27;, ...])])</pre></div></div></div><div class=\"sk-parallel\"><div class=\"sk-parallel-item\"><div class=\"sk-item\"><div class=\"sk-label-container\"><div class=\"sk-label sk-toggleable\"><input class=\"sk-toggleable__control sk-hidden--visually\" id=\"sk-estimator-id-44\" type=\"checkbox\" ><label for=\"sk-estimator-id-44\" class=\"sk-toggleable__label sk-toggleable__label-arrow\">numeric</label><div class=\"sk-toggleable__content\"><pre>[&#x27;Units Available&#x27;, &#x27;Floor No&#x27;, &#x27;Maintenance Charges&#x27;, &#x27;Bathroom&#x27;, &#x27;floors&#x27;, &#x27;balconies&#x27;, &#x27;Covered Area&#x27;, &#x27;Carpet Area&#x27;, &#x27;bedroom&#x27;]</pre></div></div></div><div class=\"sk-serial\"><div class=\"sk-item\"><div class=\"sk-serial\"><div class=\"sk-item\"><div class=\"sk-estimator sk-toggleable\"><input class=\"sk-toggleable__control sk-hidden--visually\" id=\"sk-estimator-id-45\" type=\"checkbox\" ><label for=\"sk-estimator-id-45\" class=\"sk-toggleable__label sk-toggleable__label-arrow\">StandardScaler</label><div class=\"sk-toggleable__content\"><pre>StandardScaler()</pre></div></div></div><div class=\"sk-item\"><div class=\"sk-estimator sk-toggleable\"><input class=\"sk-toggleable__control sk-hidden--visually\" id=\"sk-estimator-id-46\" type=\"checkbox\" ><label for=\"sk-estimator-id-46\" class=\"sk-toggleable__label sk-toggleable__label-arrow\">SimpleImputer</label><div class=\"sk-toggleable__content\"><pre>SimpleImputer(strategy=&#x27;most_frequent&#x27;)</pre></div></div></div></div></div></div></div></div><div class=\"sk-parallel-item\"><div class=\"sk-item\"><div class=\"sk-label-container\"><div class=\"sk-label sk-toggleable\"><input class=\"sk-toggleable__control sk-hidden--visually\" id=\"sk-estimator-id-47\" type=\"checkbox\" ><label for=\"sk-estimator-id-47\" class=\"sk-toggleable__label sk-toggleable__label-arrow\">categorical</label><div class=\"sk-toggleable__content\"><pre>[&#x27;Possession Status&#x27;, &#x27;Ownership Type&#x27;, &#x27;furnished Type&#x27;, &#x27;Facing&#x27;, &#x27;Property Lifespan&#x27;, &#x27;Transaction Type&#x27;, &#x27;Type of Property&#x27;]</pre></div></div></div><div class=\"sk-serial\"><div class=\"sk-item\"><div class=\"sk-serial\"><div class=\"sk-item\"><div class=\"sk-estimator sk-toggleable\"><input class=\"sk-toggleable__control sk-hidden--visually\" id=\"sk-estimator-id-48\" type=\"checkbox\" ><label for=\"sk-estimator-id-48\" class=\"sk-toggleable__label sk-toggleable__label-arrow\">SimpleImputer</label><div class=\"sk-toggleable__content\"><pre>SimpleImputer(strategy=&#x27;most_frequent&#x27;)</pre></div></div></div><div class=\"sk-item\"><div class=\"sk-estimator sk-toggleable\"><input class=\"sk-toggleable__control sk-hidden--visually\" id=\"sk-estimator-id-49\" type=\"checkbox\" ><label for=\"sk-estimator-id-49\" class=\"sk-toggleable__label sk-toggleable__label-arrow\">OneHotEncoder</label><div class=\"sk-toggleable__content\"><pre>OneHotEncoder(dtype=&#x27;int&#x27;, handle_unknown=&#x27;ignore&#x27;)</pre></div></div></div></div></div></div></div></div><div class=\"sk-parallel-item\"><div class=\"sk-item\"><div class=\"sk-label-container\"><div class=\"sk-label sk-toggleable\"><input class=\"sk-toggleable__control sk-hidden--visually\" id=\"sk-estimator-id-50\" type=\"checkbox\" ><label for=\"sk-estimator-id-50\" class=\"sk-toggleable__label sk-toggleable__label-arrow\">categorical_bin</label><div class=\"sk-toggleable__content\"><pre>[&#x27;Commercial&#x27;, &#x27;Society&#x27;, &#x27;24H Water&#x27;, &#x27;isPrimeLocationProperty&#x27;, &#x27;Commercial&#x27;, &#x27;24H Elec&#x27;, &#x27;Power Back Up&#x27;, &#x27;Lift&#x27;, &#x27;Rain Water Harvesting&#x27;, &#x27;Club House&#x27;, &#x27;Swimming Pool&#x27;, &#x27;Gymnasium&#x27;, &#x27;Park&#x27;, &#x27;Parking.1&#x27;, &#x27;Security&#x27;, &#x27;Water Storage&#x27;, &#x27;Private Terrace/Garden&#x27;, &#x27;Vaastu Compliant&#x27;, &#x27;Service/Goods Lift&#x27;, &#x27;Air Conditioned&#x27;, &#x27;Visitor Parking&#x27;, &#x27;Intercom Facility&#x27;, &#x27;Maintenance Staff&#x27;, &#x27;Waste Disposal&#x27;, &#x27;Laundry Service&#x27;, &#x27;Internet/Wi-Fi Connectivity&#x27;, &#x27;DTH Television Facility&#x27;, &#x27;RO Water System&#x27;, &#x27;Banquet Hall&#x27;, &#x27;Bar/Lounge&#x27;, &#x27;Cafeteria/Food Court&#x27;, &#x27;Conference Room&#x27;, &#x27;Piped Gas&#x27;, &#x27;Jogging and Strolling Track&#x27;, &#x27;Outdoor Tennis Courts&#x27;, &#x27;Mansion&#x27;, &#x27;Downtown&#x27;, &#x27;Skyline View&#x27;, &#x27;Wrap Around Balcony&#x27;, &#x27;Island Kitchen Layout&#x27;, &#x27;Full Glass Wall&#x27;, &#x27;House help accommodation&#x27;, &#x27;Concierge Services&#x27;, &#x27;Garden View&#x27;, &#x27;Marble flooring&#x27;, &#x27;Well Furnished&#x27;, &#x27;Modular Kitchen&#x27;, &#x27;Helipad&#x27;, &#x27;Private pool &#x27;, &#x27;Private Jaccuzi&#x27;, &#x27;Mini Cinema Theatre&#x27;, &#x27;Golf Course&#x27;, &#x27;Infinity Swimming Pool&#x27;, &#x27;Pool with temperature control &#x27;, &#x27;Sea facing&#x27;, &#x27;Skydeck&#x27;, &#x27;Earth quake resistant&#x27;, &#x27;Theme based Architectures&#x27;, &#x27;Health club with Steam / Jaccuzi&#x27;, &#x27;Large Clubhouse &#x27;, &#x27;Large Open space&#x27;, &#x27;Fingerprint Access&#x27;, &#x27;Grand Entrance lobby&#x27;, &#x27;Private Garage&#x27;, &#x27;Fireplace&#x27;, &#x27;Wine Cellar&#x27;, &#x27;Sky Villa&#x27;, &#x27;Water Front&#x27;, &#x27;Hilltop&#x27;, &#x27;Smart Home&#x27;, &#x27;Barbeque space&#x27;, &#x27;Kids play area&#x27;, &#x27;Library&#x27;, &#x27;Puja Room&#x27;, &#x27;Study&#x27;, &#x27;Servant Room&#x27;, &#x27;Store&#x27;, &#x27;Aerobics Room&#x27;, &#x27;Canopy Walk&#x27;, &#x27;Coffee Lounge &amp; Restaurants&#x27;, &#x27;Dance Studio&#x27;, &#x27;Event Space &amp; Amphitheatre&#x27;, &#x27;Flower Gardens&#x27;, &#x27;Guest Accommodation&#x27;, &#x27;Indoor Squash &amp; Badminton Courts&#x27;, &#x27;Kids Play Area&#x27;, &#x27;Kids Play Pool With Water Slides&#x27;, &#x27;Library And Business Centre&#x27;, &#x27;Meditation Area&#x27;, &#x27;Multipurpose Courts&#x27;, &#x27;Recreational Pool&#x27;, &#x27;Rentable CommuniPfty Space&#x27;, &#x27;Retail Boulevard (Retail Shops)&#x27;, &#x27;Cycling &amp; Jogging Track&#x27;, &#x27;Fire Fighting Equipment&#x27;, &#x27;Aesthetically designed landscape garden&#x27;]</pre></div></div></div><div class=\"sk-serial\"><div class=\"sk-item\"><div class=\"sk-serial\"><div class=\"sk-item\"><div class=\"sk-estimator sk-toggleable\"><input class=\"sk-toggleable__control sk-hidden--visually\" id=\"sk-estimator-id-51\" type=\"checkbox\" ><label for=\"sk-estimator-id-51\" class=\"sk-toggleable__label sk-toggleable__label-arrow\">OneHotEncoder</label><div class=\"sk-toggleable__content\"><pre>OneHotEncoder(drop=&#x27;if_binary&#x27;, dtype=&#x27;int&#x27;, sparse_output=False)</pre></div></div></div></div></div></div></div></div></div></div></div></div>"
      ],
      "text/plain": [
       "ColumnTransformer(transformers=[('numeric',\n",
       "                                 Pipeline(steps=[('scaler', StandardScaler()),\n",
       "                                                 ('imputer',\n",
       "                                                  SimpleImputer(strategy='most_frequent'))]),\n",
       "                                 ['Units Available', 'Floor No',\n",
       "                                  'Maintenance Charges', 'Bathroom', 'floors',\n",
       "                                  'balconies', 'Covered Area', 'Carpet Area',\n",
       "                                  'bedroom']),\n",
       "                                ('categorical',\n",
       "                                 Pipeline(steps=[('imputer',\n",
       "                                                  SimpleImputer(strategy='most_frequent')),\n",
       "                                                 ('OneH...\n",
       "                                  'Rain Water Harvesting', 'Club House',\n",
       "                                  'Swimming Pool', 'Gymnasium', 'Park',\n",
       "                                  'Parking.1', 'Security', 'Water Storage',\n",
       "                                  'Private Terrace/Garden', 'Vaastu Compliant',\n",
       "                                  'Service/Goods Lift', 'Air Conditioned',\n",
       "                                  'Visitor Parking', 'Intercom Facility',\n",
       "                                  'Maintenance Staff', 'Waste Disposal',\n",
       "                                  'Laundry Service',\n",
       "                                  'Internet/Wi-Fi Connectivity',\n",
       "                                  'DTH Television Facility', 'RO Water System',\n",
       "                                  'Banquet Hall', 'Bar/Lounge', ...])])"
      ]
     },
     "execution_count": 137,
     "metadata": {},
     "output_type": "execute_result"
    }
   ],
   "source": [
    "preprocessor = ColumnTransformer(\n",
    "    transformers=[\n",
    "        (\"numeric\", numeric_transformer, numeric_features),\n",
    "        (\"categorical\", categorical_transformer, categorical_features),\n",
    "        (\"categorical_bin\", categorical_bin_transformer, categorical_features_bin)\n",
    "    ],\n",
    "    remainder='drop'\n",
    ")\n",
    "preprocessor"
   ]
  },
  {
   "cell_type": "code",
   "execution_count": 79,
   "id": "bd9fcff2-7eef-4af9-be1a-57e919dbcc27",
   "metadata": {},
   "outputs": [],
   "source": [
    "#data.to_csv('output.csv', index=False)"
   ]
  },
  {
   "cell_type": "code",
   "execution_count": 80,
   "id": "fc61ba3d-d377-454c-8128-1b279097bdc7",
   "metadata": {},
   "outputs": [
    {
     "data": {
      "text/html": [
       "<div>\n",
       "<style scoped>\n",
       "    .dataframe tbody tr th:only-of-type {\n",
       "        vertical-align: middle;\n",
       "    }\n",
       "\n",
       "    .dataframe tbody tr th {\n",
       "        vertical-align: top;\n",
       "    }\n",
       "\n",
       "    .dataframe thead th {\n",
       "        text-align: right;\n",
       "    }\n",
       "</style>\n",
       "<table border=\"1\" class=\"dataframe\">\n",
       "  <thead>\n",
       "    <tr style=\"text-align: right;\">\n",
       "      <th></th>\n",
       "      <th>Possession Status</th>\n",
       "      <th>Floor No</th>\n",
       "      <th>Commercial</th>\n",
       "      <th>Units Available</th>\n",
       "      <th>Price</th>\n",
       "      <th>24H Elec</th>\n",
       "      <th>Maintenance Charges</th>\n",
       "      <th>Covered Area</th>\n",
       "      <th>Carpet Area</th>\n",
       "      <th>Society</th>\n",
       "      <th>Ownership Type</th>\n",
       "      <th>furnished Type</th>\n",
       "      <th>Bathroom</th>\n",
       "      <th>Facing</th>\n",
       "      <th>Transaction Type</th>\n",
       "    </tr>\n",
       "  </thead>\n",
       "  <tbody>\n",
       "    <tr>\n",
       "      <th>2</th>\n",
       "      <td>Ready to Move</td>\n",
       "      <td>18</td>\n",
       "      <td>N</td>\n",
       "      <td>0.0</td>\n",
       "      <td>5400000.0</td>\n",
       "      <td>1.0</td>\n",
       "      <td>1200.0</td>\n",
       "      <td>850.0</td>\n",
       "      <td>585.0</td>\n",
       "      <td>Y</td>\n",
       "      <td>Freehold</td>\n",
       "      <td>Unfurnished</td>\n",
       "      <td>2.0</td>\n",
       "      <td>East</td>\n",
       "      <td>New Property</td>\n",
       "    </tr>\n",
       "    <tr>\n",
       "      <th>3</th>\n",
       "      <td>Under Construction</td>\n",
       "      <td>5</td>\n",
       "      <td>N</td>\n",
       "      <td>70.0</td>\n",
       "      <td>9000000.0</td>\n",
       "      <td>1.0</td>\n",
       "      <td>3200.0</td>\n",
       "      <td>1050.0</td>\n",
       "      <td>815.0</td>\n",
       "      <td>Y</td>\n",
       "      <td>Freehold</td>\n",
       "      <td>Unfurnished</td>\n",
       "      <td>2.0</td>\n",
       "      <td>East</td>\n",
       "      <td>New Property</td>\n",
       "    </tr>\n",
       "    <tr>\n",
       "      <th>4</th>\n",
       "      <td>Under Construction</td>\n",
       "      <td>8</td>\n",
       "      <td>Y</td>\n",
       "      <td>1.0</td>\n",
       "      <td>4950000.0</td>\n",
       "      <td>1.0</td>\n",
       "      <td>NaN</td>\n",
       "      <td>561.0</td>\n",
       "      <td>419.0</td>\n",
       "      <td>Y</td>\n",
       "      <td>Freehold</td>\n",
       "      <td>Semi-Furnished</td>\n",
       "      <td>2.0</td>\n",
       "      <td>East</td>\n",
       "      <td>New Property</td>\n",
       "    </tr>\n",
       "    <tr>\n",
       "      <th>5</th>\n",
       "      <td>Under Construction</td>\n",
       "      <td>16</td>\n",
       "      <td>N</td>\n",
       "      <td>2.0</td>\n",
       "      <td>6570000.0</td>\n",
       "      <td>1.0</td>\n",
       "      <td>2.0</td>\n",
       "      <td>1067.0</td>\n",
       "      <td>667.0</td>\n",
       "      <td>Y</td>\n",
       "      <td>Freehold</td>\n",
       "      <td>Unfurnished</td>\n",
       "      <td>2.0</td>\n",
       "      <td>North - East</td>\n",
       "      <td>New Property</td>\n",
       "    </tr>\n",
       "    <tr>\n",
       "      <th>6</th>\n",
       "      <td>Ready to Move</td>\n",
       "      <td>1</td>\n",
       "      <td>N</td>\n",
       "      <td>4.0</td>\n",
       "      <td>5500000.0</td>\n",
       "      <td>1.0</td>\n",
       "      <td>2000.0</td>\n",
       "      <td>725.0</td>\n",
       "      <td>550.0</td>\n",
       "      <td>N</td>\n",
       "      <td>Co-operative Society</td>\n",
       "      <td>Unfurnished</td>\n",
       "      <td>2.0</td>\n",
       "      <td>East</td>\n",
       "      <td>Resale</td>\n",
       "    </tr>\n",
       "  </tbody>\n",
       "</table>\n",
       "</div>"
      ],
      "text/plain": [
       "    Possession Status Floor No Commercial  Units Available      Price  \\\n",
       "2       Ready to Move       18          N              0.0  5400000.0   \n",
       "3  Under Construction        5          N             70.0  9000000.0   \n",
       "4  Under Construction        8          Y              1.0  4950000.0   \n",
       "5  Under Construction       16          N              2.0  6570000.0   \n",
       "6       Ready to Move        1          N              4.0  5500000.0   \n",
       "\n",
       "   24H Elec  Maintenance Charges  Covered Area  Carpet Area Society  \\\n",
       "2       1.0               1200.0         850.0        585.0       Y   \n",
       "3       1.0               3200.0        1050.0        815.0       Y   \n",
       "4       1.0                  NaN         561.0        419.0       Y   \n",
       "5       1.0                  2.0        1067.0        667.0       Y   \n",
       "6       1.0               2000.0         725.0        550.0       N   \n",
       "\n",
       "         Ownership Type  furnished Type  Bathroom        Facing  \\\n",
       "2              Freehold     Unfurnished       2.0          East   \n",
       "3              Freehold     Unfurnished       2.0          East   \n",
       "4              Freehold  Semi-Furnished       2.0          East   \n",
       "5              Freehold     Unfurnished       2.0  North - East   \n",
       "6  Co-operative Society     Unfurnished       2.0          East   \n",
       "\n",
       "  Transaction Type  \n",
       "2     New Property  \n",
       "3     New Property  \n",
       "4     New Property  \n",
       "5     New Property  \n",
       "6           Resale  "
      ]
     },
     "execution_count": 80,
     "metadata": {},
     "output_type": "execute_result"
    }
   ],
   "source": [
    "data.iloc[:, :15].head()"
   ]
  },
  {
   "cell_type": "code",
   "execution_count": 81,
   "id": "c2950453-2e74-47d8-9712-76e8bcd79c15",
   "metadata": {},
   "outputs": [
    {
     "name": "stdout",
     "output_type": "stream",
     "text": [
      "<class 'pandas.core.frame.DataFrame'>\n",
      "Index: 7890 entries, 2 to 12672\n",
      "Columns: 112 entries, Possession Status to Aesthetically designed landscape garden\n",
      "dtypes: float64(10), int64(91), object(11)\n",
      "memory usage: 6.8+ MB\n"
     ]
    }
   ],
   "source": [
    "data.info()"
   ]
  },
  {
   "cell_type": "code",
   "execution_count": 138,
   "id": "1909abc0-f1fe-4419-bd37-8f75c89a8a24",
   "metadata": {},
   "outputs": [
    {
     "data": {
      "text/plain": [
       "['Units Available',\n",
       " 'Floor No',\n",
       " 'Maintenance Charges',\n",
       " 'Bathroom',\n",
       " 'floors',\n",
       " 'balconies',\n",
       " 'Covered Area',\n",
       " 'Carpet Area',\n",
       " 'bedroom']"
      ]
     },
     "execution_count": 138,
     "metadata": {},
     "output_type": "execute_result"
    }
   ],
   "source": [
    "numeric_features"
   ]
  },
  {
   "cell_type": "code",
   "execution_count": 139,
   "id": "e5de0731-96fc-4182-b63d-699ecffaf29c",
   "metadata": {},
   "outputs": [],
   "source": [
    "# Assign the splits to train_df and test_df\n",
    "from sklearn.model_selection import cross_validate, train_test_split\n",
    "\n",
    "\n",
    "# Split the dataset into 80% train and 20% test \n",
    "train_df, test_df = train_test_split(data, test_size=0.2, random_state=893)"
   ]
  },
  {
   "cell_type": "code",
   "execution_count": 140,
   "id": "07de23c0-15a9-4f85-bfb2-e7537107d4b6",
   "metadata": {},
   "outputs": [],
   "source": [
    "X_train = train_df.drop(columns = ['Price'])\n",
    "y_train = train_df['Price']\n",
    "X_test = test_df.drop(columns =  ['Price'])\n",
    "y_test = test_df['Price']"
   ]
  },
  {
   "cell_type": "code",
   "execution_count": 141,
   "id": "7753b5e8-c3cd-40cf-a72b-020e1b6ec1fa",
   "metadata": {},
   "outputs": [
    {
     "data": {
      "text/html": [
       "<div>\n",
       "<style scoped>\n",
       "    .dataframe tbody tr th:only-of-type {\n",
       "        vertical-align: middle;\n",
       "    }\n",
       "\n",
       "    .dataframe tbody tr th {\n",
       "        vertical-align: top;\n",
       "    }\n",
       "\n",
       "    .dataframe thead th {\n",
       "        text-align: right;\n",
       "    }\n",
       "</style>\n",
       "<table border=\"1\" class=\"dataframe\">\n",
       "  <thead>\n",
       "    <tr style=\"text-align: right;\">\n",
       "      <th></th>\n",
       "      <th>Possession Status</th>\n",
       "      <th>Floor No</th>\n",
       "      <th>Commercial</th>\n",
       "      <th>Units Available</th>\n",
       "      <th>24H Elec</th>\n",
       "      <th>Maintenance Charges</th>\n",
       "      <th>Covered Area</th>\n",
       "      <th>Carpet Area</th>\n",
       "      <th>Society</th>\n",
       "      <th>Ownership Type</th>\n",
       "      <th>...</th>\n",
       "      <th>Kids Play Pool With Water Slides</th>\n",
       "      <th>Library And Business Centre</th>\n",
       "      <th>Meditation Area</th>\n",
       "      <th>Multipurpose Courts</th>\n",
       "      <th>Recreational Pool</th>\n",
       "      <th>Rentable CommuniPfty Space</th>\n",
       "      <th>Retail Boulevard (Retail Shops)</th>\n",
       "      <th>Cycling &amp; Jogging Track</th>\n",
       "      <th>Fire Fighting Equipment</th>\n",
       "      <th>Aesthetically designed landscape garden</th>\n",
       "    </tr>\n",
       "  </thead>\n",
       "  <tbody>\n",
       "    <tr>\n",
       "      <th>1381</th>\n",
       "      <td>Ready to Move</td>\n",
       "      <td>7</td>\n",
       "      <td>N</td>\n",
       "      <td>1.0</td>\n",
       "      <td>1.0</td>\n",
       "      <td>NaN</td>\n",
       "      <td>750.0</td>\n",
       "      <td>840.0</td>\n",
       "      <td>N</td>\n",
       "      <td>Freehold</td>\n",
       "      <td>...</td>\n",
       "      <td>0</td>\n",
       "      <td>0</td>\n",
       "      <td>0</td>\n",
       "      <td>0</td>\n",
       "      <td>0</td>\n",
       "      <td>0</td>\n",
       "      <td>0</td>\n",
       "      <td>0</td>\n",
       "      <td>0</td>\n",
       "      <td>0</td>\n",
       "    </tr>\n",
       "    <tr>\n",
       "      <th>1810</th>\n",
       "      <td>Ready to Move</td>\n",
       "      <td>9</td>\n",
       "      <td>N</td>\n",
       "      <td>10.0</td>\n",
       "      <td>1.0</td>\n",
       "      <td>4000.0</td>\n",
       "      <td>1050.0</td>\n",
       "      <td>629.0</td>\n",
       "      <td>Y</td>\n",
       "      <td>Freehold</td>\n",
       "      <td>...</td>\n",
       "      <td>1</td>\n",
       "      <td>1</td>\n",
       "      <td>1</td>\n",
       "      <td>1</td>\n",
       "      <td>1</td>\n",
       "      <td>1</td>\n",
       "      <td>1</td>\n",
       "      <td>1</td>\n",
       "      <td>1</td>\n",
       "      <td>1</td>\n",
       "    </tr>\n",
       "    <tr>\n",
       "      <th>10123</th>\n",
       "      <td>Ready to Move</td>\n",
       "      <td>6</td>\n",
       "      <td>Y</td>\n",
       "      <td>6.0</td>\n",
       "      <td>1.0</td>\n",
       "      <td>19000.0</td>\n",
       "      <td>1540.0</td>\n",
       "      <td>2500.0</td>\n",
       "      <td>Y</td>\n",
       "      <td>Freehold</td>\n",
       "      <td>...</td>\n",
       "      <td>1</td>\n",
       "      <td>1</td>\n",
       "      <td>1</td>\n",
       "      <td>1</td>\n",
       "      <td>1</td>\n",
       "      <td>1</td>\n",
       "      <td>1</td>\n",
       "      <td>1</td>\n",
       "      <td>1</td>\n",
       "      <td>1</td>\n",
       "    </tr>\n",
       "    <tr>\n",
       "      <th>5443</th>\n",
       "      <td>Ready to Move</td>\n",
       "      <td>6</td>\n",
       "      <td>N</td>\n",
       "      <td>1.0</td>\n",
       "      <td>1.0</td>\n",
       "      <td>NaN</td>\n",
       "      <td>955.0</td>\n",
       "      <td>650.0</td>\n",
       "      <td>N</td>\n",
       "      <td>Co-operative Society</td>\n",
       "      <td>...</td>\n",
       "      <td>0</td>\n",
       "      <td>0</td>\n",
       "      <td>0</td>\n",
       "      <td>0</td>\n",
       "      <td>0</td>\n",
       "      <td>0</td>\n",
       "      <td>0</td>\n",
       "      <td>0</td>\n",
       "      <td>0</td>\n",
       "      <td>0</td>\n",
       "    </tr>\n",
       "    <tr>\n",
       "      <th>5009</th>\n",
       "      <td>Ready to Move</td>\n",
       "      <td>0</td>\n",
       "      <td>N</td>\n",
       "      <td>1.0</td>\n",
       "      <td>1.0</td>\n",
       "      <td>NaN</td>\n",
       "      <td>2300.0</td>\n",
       "      <td>1900.0</td>\n",
       "      <td>Y</td>\n",
       "      <td>Co-operative Society</td>\n",
       "      <td>...</td>\n",
       "      <td>0</td>\n",
       "      <td>0</td>\n",
       "      <td>0</td>\n",
       "      <td>0</td>\n",
       "      <td>0</td>\n",
       "      <td>0</td>\n",
       "      <td>0</td>\n",
       "      <td>0</td>\n",
       "      <td>0</td>\n",
       "      <td>0</td>\n",
       "    </tr>\n",
       "    <tr>\n",
       "      <th>...</th>\n",
       "      <td>...</td>\n",
       "      <td>...</td>\n",
       "      <td>...</td>\n",
       "      <td>...</td>\n",
       "      <td>...</td>\n",
       "      <td>...</td>\n",
       "      <td>...</td>\n",
       "      <td>...</td>\n",
       "      <td>...</td>\n",
       "      <td>...</td>\n",
       "      <td>...</td>\n",
       "      <td>...</td>\n",
       "      <td>...</td>\n",
       "      <td>...</td>\n",
       "      <td>...</td>\n",
       "      <td>...</td>\n",
       "      <td>...</td>\n",
       "      <td>...</td>\n",
       "      <td>...</td>\n",
       "      <td>...</td>\n",
       "      <td>...</td>\n",
       "    </tr>\n",
       "    <tr>\n",
       "      <th>11476</th>\n",
       "      <td>Ready to Move</td>\n",
       "      <td>9</td>\n",
       "      <td>N</td>\n",
       "      <td>1.0</td>\n",
       "      <td>1.0</td>\n",
       "      <td>NaN</td>\n",
       "      <td>890.0</td>\n",
       "      <td>750.0</td>\n",
       "      <td>N</td>\n",
       "      <td>NaN</td>\n",
       "      <td>...</td>\n",
       "      <td>0</td>\n",
       "      <td>0</td>\n",
       "      <td>0</td>\n",
       "      <td>0</td>\n",
       "      <td>0</td>\n",
       "      <td>0</td>\n",
       "      <td>0</td>\n",
       "      <td>0</td>\n",
       "      <td>0</td>\n",
       "      <td>0</td>\n",
       "    </tr>\n",
       "    <tr>\n",
       "      <th>6208</th>\n",
       "      <td>Under Construction</td>\n",
       "      <td>10</td>\n",
       "      <td>N</td>\n",
       "      <td>14.0</td>\n",
       "      <td>1.0</td>\n",
       "      <td>5000.0</td>\n",
       "      <td>954.0</td>\n",
       "      <td>954.0</td>\n",
       "      <td>Y</td>\n",
       "      <td>Leasehold</td>\n",
       "      <td>...</td>\n",
       "      <td>1</td>\n",
       "      <td>1</td>\n",
       "      <td>1</td>\n",
       "      <td>1</td>\n",
       "      <td>1</td>\n",
       "      <td>1</td>\n",
       "      <td>1</td>\n",
       "      <td>1</td>\n",
       "      <td>1</td>\n",
       "      <td>1</td>\n",
       "    </tr>\n",
       "    <tr>\n",
       "      <th>10984</th>\n",
       "      <td>Ready to Move</td>\n",
       "      <td>7</td>\n",
       "      <td>N</td>\n",
       "      <td>1.0</td>\n",
       "      <td>1.0</td>\n",
       "      <td>NaN</td>\n",
       "      <td>400.0</td>\n",
       "      <td>320.0</td>\n",
       "      <td>Y</td>\n",
       "      <td>Freehold</td>\n",
       "      <td>...</td>\n",
       "      <td>0</td>\n",
       "      <td>0</td>\n",
       "      <td>0</td>\n",
       "      <td>0</td>\n",
       "      <td>0</td>\n",
       "      <td>0</td>\n",
       "      <td>0</td>\n",
       "      <td>0</td>\n",
       "      <td>0</td>\n",
       "      <td>0</td>\n",
       "    </tr>\n",
       "    <tr>\n",
       "      <th>2768</th>\n",
       "      <td>Ready to Move</td>\n",
       "      <td>3</td>\n",
       "      <td>N</td>\n",
       "      <td>1.0</td>\n",
       "      <td>1.0</td>\n",
       "      <td>NaN</td>\n",
       "      <td>510.0</td>\n",
       "      <td>445.0</td>\n",
       "      <td>N</td>\n",
       "      <td>NaN</td>\n",
       "      <td>...</td>\n",
       "      <td>0</td>\n",
       "      <td>0</td>\n",
       "      <td>0</td>\n",
       "      <td>0</td>\n",
       "      <td>0</td>\n",
       "      <td>0</td>\n",
       "      <td>0</td>\n",
       "      <td>0</td>\n",
       "      <td>0</td>\n",
       "      <td>0</td>\n",
       "    </tr>\n",
       "    <tr>\n",
       "      <th>6133</th>\n",
       "      <td>Ready to Move</td>\n",
       "      <td>6</td>\n",
       "      <td>N</td>\n",
       "      <td>1.0</td>\n",
       "      <td>1.0</td>\n",
       "      <td>NaN</td>\n",
       "      <td>750.0</td>\n",
       "      <td>452.0</td>\n",
       "      <td>N</td>\n",
       "      <td>NaN</td>\n",
       "      <td>...</td>\n",
       "      <td>0</td>\n",
       "      <td>0</td>\n",
       "      <td>0</td>\n",
       "      <td>0</td>\n",
       "      <td>0</td>\n",
       "      <td>0</td>\n",
       "      <td>0</td>\n",
       "      <td>0</td>\n",
       "      <td>0</td>\n",
       "      <td>0</td>\n",
       "    </tr>\n",
       "  </tbody>\n",
       "</table>\n",
       "<p>6312 rows × 111 columns</p>\n",
       "</div>"
      ],
      "text/plain": [
       "        Possession Status Floor No Commercial  Units Available  24H Elec  \\\n",
       "1381        Ready to Move        7          N              1.0       1.0   \n",
       "1810        Ready to Move        9          N             10.0       1.0   \n",
       "10123       Ready to Move        6          Y              6.0       1.0   \n",
       "5443        Ready to Move        6          N              1.0       1.0   \n",
       "5009        Ready to Move        0          N              1.0       1.0   \n",
       "...                   ...      ...        ...              ...       ...   \n",
       "11476       Ready to Move        9          N              1.0       1.0   \n",
       "6208   Under Construction       10          N             14.0       1.0   \n",
       "10984       Ready to Move        7          N              1.0       1.0   \n",
       "2768        Ready to Move        3          N              1.0       1.0   \n",
       "6133        Ready to Move        6          N              1.0       1.0   \n",
       "\n",
       "       Maintenance Charges  Covered Area  Carpet Area Society  \\\n",
       "1381                   NaN         750.0        840.0       N   \n",
       "1810                4000.0        1050.0        629.0       Y   \n",
       "10123              19000.0        1540.0       2500.0       Y   \n",
       "5443                   NaN         955.0        650.0       N   \n",
       "5009                   NaN        2300.0       1900.0       Y   \n",
       "...                    ...           ...          ...     ...   \n",
       "11476                  NaN         890.0        750.0       N   \n",
       "6208                5000.0         954.0        954.0       Y   \n",
       "10984                  NaN         400.0        320.0       Y   \n",
       "2768                   NaN         510.0        445.0       N   \n",
       "6133                   NaN         750.0        452.0       N   \n",
       "\n",
       "             Ownership Type  ... Kids Play Pool With Water Slides  \\\n",
       "1381               Freehold  ...                                0   \n",
       "1810               Freehold  ...                                1   \n",
       "10123              Freehold  ...                                1   \n",
       "5443   Co-operative Society  ...                                0   \n",
       "5009   Co-operative Society  ...                                0   \n",
       "...                     ...  ...                              ...   \n",
       "11476                   NaN  ...                                0   \n",
       "6208              Leasehold  ...                                1   \n",
       "10984              Freehold  ...                                0   \n",
       "2768                    NaN  ...                                0   \n",
       "6133                    NaN  ...                                0   \n",
       "\n",
       "       Library And Business Centre Meditation Area Multipurpose Courts  \\\n",
       "1381                             0               0                   0   \n",
       "1810                             1               1                   1   \n",
       "10123                            1               1                   1   \n",
       "5443                             0               0                   0   \n",
       "5009                             0               0                   0   \n",
       "...                            ...             ...                 ...   \n",
       "11476                            0               0                   0   \n",
       "6208                             1               1                   1   \n",
       "10984                            0               0                   0   \n",
       "2768                             0               0                   0   \n",
       "6133                             0               0                   0   \n",
       "\n",
       "      Recreational Pool  Rentable CommuniPfty Space  \\\n",
       "1381                  0                           0   \n",
       "1810                  1                           1   \n",
       "10123                 1                           1   \n",
       "5443                  0                           0   \n",
       "5009                  0                           0   \n",
       "...                 ...                         ...   \n",
       "11476                 0                           0   \n",
       "6208                  1                           1   \n",
       "10984                 0                           0   \n",
       "2768                  0                           0   \n",
       "6133                  0                           0   \n",
       "\n",
       "       Retail Boulevard (Retail Shops)  Cycling & Jogging Track  \\\n",
       "1381                                 0                        0   \n",
       "1810                                 1                        1   \n",
       "10123                                1                        1   \n",
       "5443                                 0                        0   \n",
       "5009                                 0                        0   \n",
       "...                                ...                      ...   \n",
       "11476                                0                        0   \n",
       "6208                                 1                        1   \n",
       "10984                                0                        0   \n",
       "2768                                 0                        0   \n",
       "6133                                 0                        0   \n",
       "\n",
       "      Fire Fighting Equipment Aesthetically designed landscape garden  \n",
       "1381                        0                                       0  \n",
       "1810                        1                                       1  \n",
       "10123                       1                                       1  \n",
       "5443                        0                                       0  \n",
       "5009                        0                                       0  \n",
       "...                       ...                                     ...  \n",
       "11476                       0                                       0  \n",
       "6208                        1                                       1  \n",
       "10984                       0                                       0  \n",
       "2768                        0                                       0  \n",
       "6133                        0                                       0  \n",
       "\n",
       "[6312 rows x 111 columns]"
      ]
     },
     "execution_count": 141,
     "metadata": {},
     "output_type": "execute_result"
    }
   ],
   "source": [
    "X_train"
   ]
  },
  {
   "cell_type": "code",
   "execution_count": 142,
   "id": "f6fa210e-d371-4a8b-ae80-0043287b2813",
   "metadata": {},
   "outputs": [
    {
     "data": {
      "text/html": [
       "<style>#sk-container-id-13 {color: black;}#sk-container-id-13 pre{padding: 0;}#sk-container-id-13 div.sk-toggleable {background-color: white;}#sk-container-id-13 label.sk-toggleable__label {cursor: pointer;display: block;width: 100%;margin-bottom: 0;padding: 0.3em;box-sizing: border-box;text-align: center;}#sk-container-id-13 label.sk-toggleable__label-arrow:before {content: \"▸\";float: left;margin-right: 0.25em;color: #696969;}#sk-container-id-13 label.sk-toggleable__label-arrow:hover:before {color: black;}#sk-container-id-13 div.sk-estimator:hover label.sk-toggleable__label-arrow:before {color: black;}#sk-container-id-13 div.sk-toggleable__content {max-height: 0;max-width: 0;overflow: hidden;text-align: left;background-color: #f0f8ff;}#sk-container-id-13 div.sk-toggleable__content pre {margin: 0.2em;color: black;border-radius: 0.25em;background-color: #f0f8ff;}#sk-container-id-13 input.sk-toggleable__control:checked~div.sk-toggleable__content {max-height: 200px;max-width: 100%;overflow: auto;}#sk-container-id-13 input.sk-toggleable__control:checked~label.sk-toggleable__label-arrow:before {content: \"▾\";}#sk-container-id-13 div.sk-estimator input.sk-toggleable__control:checked~label.sk-toggleable__label {background-color: #d4ebff;}#sk-container-id-13 div.sk-label input.sk-toggleable__control:checked~label.sk-toggleable__label {background-color: #d4ebff;}#sk-container-id-13 input.sk-hidden--visually {border: 0;clip: rect(1px 1px 1px 1px);clip: rect(1px, 1px, 1px, 1px);height: 1px;margin: -1px;overflow: hidden;padding: 0;position: absolute;width: 1px;}#sk-container-id-13 div.sk-estimator {font-family: monospace;background-color: #f0f8ff;border: 1px dotted black;border-radius: 0.25em;box-sizing: border-box;margin-bottom: 0.5em;}#sk-container-id-13 div.sk-estimator:hover {background-color: #d4ebff;}#sk-container-id-13 div.sk-parallel-item::after {content: \"\";width: 100%;border-bottom: 1px solid gray;flex-grow: 1;}#sk-container-id-13 div.sk-label:hover label.sk-toggleable__label {background-color: #d4ebff;}#sk-container-id-13 div.sk-serial::before {content: \"\";position: absolute;border-left: 1px solid gray;box-sizing: border-box;top: 0;bottom: 0;left: 50%;z-index: 0;}#sk-container-id-13 div.sk-serial {display: flex;flex-direction: column;align-items: center;background-color: white;padding-right: 0.2em;padding-left: 0.2em;position: relative;}#sk-container-id-13 div.sk-item {position: relative;z-index: 1;}#sk-container-id-13 div.sk-parallel {display: flex;align-items: stretch;justify-content: center;background-color: white;position: relative;}#sk-container-id-13 div.sk-item::before, #sk-container-id-13 div.sk-parallel-item::before {content: \"\";position: absolute;border-left: 1px solid gray;box-sizing: border-box;top: 0;bottom: 0;left: 50%;z-index: -1;}#sk-container-id-13 div.sk-parallel-item {display: flex;flex-direction: column;z-index: 1;position: relative;background-color: white;}#sk-container-id-13 div.sk-parallel-item:first-child::after {align-self: flex-end;width: 50%;}#sk-container-id-13 div.sk-parallel-item:last-child::after {align-self: flex-start;width: 50%;}#sk-container-id-13 div.sk-parallel-item:only-child::after {width: 0;}#sk-container-id-13 div.sk-dashed-wrapped {border: 1px dashed gray;margin: 0 0.4em 0.5em 0.4em;box-sizing: border-box;padding-bottom: 0.4em;background-color: white;}#sk-container-id-13 div.sk-label label {font-family: monospace;font-weight: bold;display: inline-block;line-height: 1.2em;}#sk-container-id-13 div.sk-label-container {text-align: center;}#sk-container-id-13 div.sk-container {/* jupyter's `normalize.less` sets `[hidden] { display: none; }` but bootstrap.min.css set `[hidden] { display: none !important; }` so we also need the `!important` here to be able to override the default hidden behavior on the sphinx rendered scikit-learn.org. See: https://github.com/scikit-learn/scikit-learn/issues/21755 */display: inline-block !important;position: relative;}#sk-container-id-13 div.sk-text-repr-fallback {display: none;}</style><div id=\"sk-container-id-13\" class=\"sk-top-container\"><div class=\"sk-text-repr-fallback\"><pre>ColumnTransformer(transformers=[(&#x27;numeric&#x27;,\n",
       "                                 Pipeline(steps=[(&#x27;scaler&#x27;, StandardScaler()),\n",
       "                                                 (&#x27;imputer&#x27;,\n",
       "                                                  SimpleImputer(strategy=&#x27;most_frequent&#x27;))]),\n",
       "                                 [&#x27;Units Available&#x27;, &#x27;Floor No&#x27;,\n",
       "                                  &#x27;Maintenance Charges&#x27;, &#x27;Bathroom&#x27;, &#x27;floors&#x27;,\n",
       "                                  &#x27;balconies&#x27;, &#x27;Covered Area&#x27;, &#x27;Carpet Area&#x27;,\n",
       "                                  &#x27;bedroom&#x27;]),\n",
       "                                (&#x27;categorical&#x27;,\n",
       "                                 Pipeline(steps=[(&#x27;imputer&#x27;,\n",
       "                                                  SimpleImputer(strategy=&#x27;most_frequent&#x27;)),\n",
       "                                                 (&#x27;OneH...\n",
       "                                  &#x27;Rain Water Harvesting&#x27;, &#x27;Club House&#x27;,\n",
       "                                  &#x27;Swimming Pool&#x27;, &#x27;Gymnasium&#x27;, &#x27;Park&#x27;,\n",
       "                                  &#x27;Parking.1&#x27;, &#x27;Security&#x27;, &#x27;Water Storage&#x27;,\n",
       "                                  &#x27;Private Terrace/Garden&#x27;, &#x27;Vaastu Compliant&#x27;,\n",
       "                                  &#x27;Service/Goods Lift&#x27;, &#x27;Air Conditioned&#x27;,\n",
       "                                  &#x27;Visitor Parking&#x27;, &#x27;Intercom Facility&#x27;,\n",
       "                                  &#x27;Maintenance Staff&#x27;, &#x27;Waste Disposal&#x27;,\n",
       "                                  &#x27;Laundry Service&#x27;,\n",
       "                                  &#x27;Internet/Wi-Fi Connectivity&#x27;,\n",
       "                                  &#x27;DTH Television Facility&#x27;, &#x27;RO Water System&#x27;,\n",
       "                                  &#x27;Banquet Hall&#x27;, &#x27;Bar/Lounge&#x27;, ...])])</pre><b>In a Jupyter environment, please rerun this cell to show the HTML representation or trust the notebook. <br />On GitHub, the HTML representation is unable to render, please try loading this page with nbviewer.org.</b></div><div class=\"sk-container\" hidden><div class=\"sk-item sk-dashed-wrapped\"><div class=\"sk-label-container\"><div class=\"sk-label sk-toggleable\"><input class=\"sk-toggleable__control sk-hidden--visually\" id=\"sk-estimator-id-52\" type=\"checkbox\" ><label for=\"sk-estimator-id-52\" class=\"sk-toggleable__label sk-toggleable__label-arrow\">ColumnTransformer</label><div class=\"sk-toggleable__content\"><pre>ColumnTransformer(transformers=[(&#x27;numeric&#x27;,\n",
       "                                 Pipeline(steps=[(&#x27;scaler&#x27;, StandardScaler()),\n",
       "                                                 (&#x27;imputer&#x27;,\n",
       "                                                  SimpleImputer(strategy=&#x27;most_frequent&#x27;))]),\n",
       "                                 [&#x27;Units Available&#x27;, &#x27;Floor No&#x27;,\n",
       "                                  &#x27;Maintenance Charges&#x27;, &#x27;Bathroom&#x27;, &#x27;floors&#x27;,\n",
       "                                  &#x27;balconies&#x27;, &#x27;Covered Area&#x27;, &#x27;Carpet Area&#x27;,\n",
       "                                  &#x27;bedroom&#x27;]),\n",
       "                                (&#x27;categorical&#x27;,\n",
       "                                 Pipeline(steps=[(&#x27;imputer&#x27;,\n",
       "                                                  SimpleImputer(strategy=&#x27;most_frequent&#x27;)),\n",
       "                                                 (&#x27;OneH...\n",
       "                                  &#x27;Rain Water Harvesting&#x27;, &#x27;Club House&#x27;,\n",
       "                                  &#x27;Swimming Pool&#x27;, &#x27;Gymnasium&#x27;, &#x27;Park&#x27;,\n",
       "                                  &#x27;Parking.1&#x27;, &#x27;Security&#x27;, &#x27;Water Storage&#x27;,\n",
       "                                  &#x27;Private Terrace/Garden&#x27;, &#x27;Vaastu Compliant&#x27;,\n",
       "                                  &#x27;Service/Goods Lift&#x27;, &#x27;Air Conditioned&#x27;,\n",
       "                                  &#x27;Visitor Parking&#x27;, &#x27;Intercom Facility&#x27;,\n",
       "                                  &#x27;Maintenance Staff&#x27;, &#x27;Waste Disposal&#x27;,\n",
       "                                  &#x27;Laundry Service&#x27;,\n",
       "                                  &#x27;Internet/Wi-Fi Connectivity&#x27;,\n",
       "                                  &#x27;DTH Television Facility&#x27;, &#x27;RO Water System&#x27;,\n",
       "                                  &#x27;Banquet Hall&#x27;, &#x27;Bar/Lounge&#x27;, ...])])</pre></div></div></div><div class=\"sk-parallel\"><div class=\"sk-parallel-item\"><div class=\"sk-item\"><div class=\"sk-label-container\"><div class=\"sk-label sk-toggleable\"><input class=\"sk-toggleable__control sk-hidden--visually\" id=\"sk-estimator-id-53\" type=\"checkbox\" ><label for=\"sk-estimator-id-53\" class=\"sk-toggleable__label sk-toggleable__label-arrow\">numeric</label><div class=\"sk-toggleable__content\"><pre>[&#x27;Units Available&#x27;, &#x27;Floor No&#x27;, &#x27;Maintenance Charges&#x27;, &#x27;Bathroom&#x27;, &#x27;floors&#x27;, &#x27;balconies&#x27;, &#x27;Covered Area&#x27;, &#x27;Carpet Area&#x27;, &#x27;bedroom&#x27;]</pre></div></div></div><div class=\"sk-serial\"><div class=\"sk-item\"><div class=\"sk-serial\"><div class=\"sk-item\"><div class=\"sk-estimator sk-toggleable\"><input class=\"sk-toggleable__control sk-hidden--visually\" id=\"sk-estimator-id-54\" type=\"checkbox\" ><label for=\"sk-estimator-id-54\" class=\"sk-toggleable__label sk-toggleable__label-arrow\">StandardScaler</label><div class=\"sk-toggleable__content\"><pre>StandardScaler()</pre></div></div></div><div class=\"sk-item\"><div class=\"sk-estimator sk-toggleable\"><input class=\"sk-toggleable__control sk-hidden--visually\" id=\"sk-estimator-id-55\" type=\"checkbox\" ><label for=\"sk-estimator-id-55\" class=\"sk-toggleable__label sk-toggleable__label-arrow\">SimpleImputer</label><div class=\"sk-toggleable__content\"><pre>SimpleImputer(strategy=&#x27;most_frequent&#x27;)</pre></div></div></div></div></div></div></div></div><div class=\"sk-parallel-item\"><div class=\"sk-item\"><div class=\"sk-label-container\"><div class=\"sk-label sk-toggleable\"><input class=\"sk-toggleable__control sk-hidden--visually\" id=\"sk-estimator-id-56\" type=\"checkbox\" ><label for=\"sk-estimator-id-56\" class=\"sk-toggleable__label sk-toggleable__label-arrow\">categorical</label><div class=\"sk-toggleable__content\"><pre>[&#x27;Possession Status&#x27;, &#x27;Ownership Type&#x27;, &#x27;furnished Type&#x27;, &#x27;Facing&#x27;, &#x27;Property Lifespan&#x27;, &#x27;Transaction Type&#x27;, &#x27;Type of Property&#x27;]</pre></div></div></div><div class=\"sk-serial\"><div class=\"sk-item\"><div class=\"sk-serial\"><div class=\"sk-item\"><div class=\"sk-estimator sk-toggleable\"><input class=\"sk-toggleable__control sk-hidden--visually\" id=\"sk-estimator-id-57\" type=\"checkbox\" ><label for=\"sk-estimator-id-57\" class=\"sk-toggleable__label sk-toggleable__label-arrow\">SimpleImputer</label><div class=\"sk-toggleable__content\"><pre>SimpleImputer(strategy=&#x27;most_frequent&#x27;)</pre></div></div></div><div class=\"sk-item\"><div class=\"sk-estimator sk-toggleable\"><input class=\"sk-toggleable__control sk-hidden--visually\" id=\"sk-estimator-id-58\" type=\"checkbox\" ><label for=\"sk-estimator-id-58\" class=\"sk-toggleable__label sk-toggleable__label-arrow\">OneHotEncoder</label><div class=\"sk-toggleable__content\"><pre>OneHotEncoder(dtype=&#x27;int&#x27;, handle_unknown=&#x27;ignore&#x27;)</pre></div></div></div></div></div></div></div></div><div class=\"sk-parallel-item\"><div class=\"sk-item\"><div class=\"sk-label-container\"><div class=\"sk-label sk-toggleable\"><input class=\"sk-toggleable__control sk-hidden--visually\" id=\"sk-estimator-id-59\" type=\"checkbox\" ><label for=\"sk-estimator-id-59\" class=\"sk-toggleable__label sk-toggleable__label-arrow\">categorical_bin</label><div class=\"sk-toggleable__content\"><pre>[&#x27;Commercial&#x27;, &#x27;Society&#x27;, &#x27;24H Water&#x27;, &#x27;isPrimeLocationProperty&#x27;, &#x27;Commercial&#x27;, &#x27;24H Elec&#x27;, &#x27;Power Back Up&#x27;, &#x27;Lift&#x27;, &#x27;Rain Water Harvesting&#x27;, &#x27;Club House&#x27;, &#x27;Swimming Pool&#x27;, &#x27;Gymnasium&#x27;, &#x27;Park&#x27;, &#x27;Parking.1&#x27;, &#x27;Security&#x27;, &#x27;Water Storage&#x27;, &#x27;Private Terrace/Garden&#x27;, &#x27;Vaastu Compliant&#x27;, &#x27;Service/Goods Lift&#x27;, &#x27;Air Conditioned&#x27;, &#x27;Visitor Parking&#x27;, &#x27;Intercom Facility&#x27;, &#x27;Maintenance Staff&#x27;, &#x27;Waste Disposal&#x27;, &#x27;Laundry Service&#x27;, &#x27;Internet/Wi-Fi Connectivity&#x27;, &#x27;DTH Television Facility&#x27;, &#x27;RO Water System&#x27;, &#x27;Banquet Hall&#x27;, &#x27;Bar/Lounge&#x27;, &#x27;Cafeteria/Food Court&#x27;, &#x27;Conference Room&#x27;, &#x27;Piped Gas&#x27;, &#x27;Jogging and Strolling Track&#x27;, &#x27;Outdoor Tennis Courts&#x27;, &#x27;Mansion&#x27;, &#x27;Downtown&#x27;, &#x27;Skyline View&#x27;, &#x27;Wrap Around Balcony&#x27;, &#x27;Island Kitchen Layout&#x27;, &#x27;Full Glass Wall&#x27;, &#x27;House help accommodation&#x27;, &#x27;Concierge Services&#x27;, &#x27;Garden View&#x27;, &#x27;Marble flooring&#x27;, &#x27;Well Furnished&#x27;, &#x27;Modular Kitchen&#x27;, &#x27;Helipad&#x27;, &#x27;Private pool &#x27;, &#x27;Private Jaccuzi&#x27;, &#x27;Mini Cinema Theatre&#x27;, &#x27;Golf Course&#x27;, &#x27;Infinity Swimming Pool&#x27;, &#x27;Pool with temperature control &#x27;, &#x27;Sea facing&#x27;, &#x27;Skydeck&#x27;, &#x27;Earth quake resistant&#x27;, &#x27;Theme based Architectures&#x27;, &#x27;Health club with Steam / Jaccuzi&#x27;, &#x27;Large Clubhouse &#x27;, &#x27;Large Open space&#x27;, &#x27;Fingerprint Access&#x27;, &#x27;Grand Entrance lobby&#x27;, &#x27;Private Garage&#x27;, &#x27;Fireplace&#x27;, &#x27;Wine Cellar&#x27;, &#x27;Sky Villa&#x27;, &#x27;Water Front&#x27;, &#x27;Hilltop&#x27;, &#x27;Smart Home&#x27;, &#x27;Barbeque space&#x27;, &#x27;Kids play area&#x27;, &#x27;Library&#x27;, &#x27;Puja Room&#x27;, &#x27;Study&#x27;, &#x27;Servant Room&#x27;, &#x27;Store&#x27;, &#x27;Aerobics Room&#x27;, &#x27;Canopy Walk&#x27;, &#x27;Coffee Lounge &amp; Restaurants&#x27;, &#x27;Dance Studio&#x27;, &#x27;Event Space &amp; Amphitheatre&#x27;, &#x27;Flower Gardens&#x27;, &#x27;Guest Accommodation&#x27;, &#x27;Indoor Squash &amp; Badminton Courts&#x27;, &#x27;Kids Play Area&#x27;, &#x27;Kids Play Pool With Water Slides&#x27;, &#x27;Library And Business Centre&#x27;, &#x27;Meditation Area&#x27;, &#x27;Multipurpose Courts&#x27;, &#x27;Recreational Pool&#x27;, &#x27;Rentable CommuniPfty Space&#x27;, &#x27;Retail Boulevard (Retail Shops)&#x27;, &#x27;Cycling &amp; Jogging Track&#x27;, &#x27;Fire Fighting Equipment&#x27;, &#x27;Aesthetically designed landscape garden&#x27;]</pre></div></div></div><div class=\"sk-serial\"><div class=\"sk-item\"><div class=\"sk-serial\"><div class=\"sk-item\"><div class=\"sk-estimator sk-toggleable\"><input class=\"sk-toggleable__control sk-hidden--visually\" id=\"sk-estimator-id-60\" type=\"checkbox\" ><label for=\"sk-estimator-id-60\" class=\"sk-toggleable__label sk-toggleable__label-arrow\">OneHotEncoder</label><div class=\"sk-toggleable__content\"><pre>OneHotEncoder(drop=&#x27;if_binary&#x27;, dtype=&#x27;int&#x27;, sparse_output=False)</pre></div></div></div></div></div></div></div></div></div></div></div></div>"
      ],
      "text/plain": [
       "ColumnTransformer(transformers=[('numeric',\n",
       "                                 Pipeline(steps=[('scaler', StandardScaler()),\n",
       "                                                 ('imputer',\n",
       "                                                  SimpleImputer(strategy='most_frequent'))]),\n",
       "                                 ['Units Available', 'Floor No',\n",
       "                                  'Maintenance Charges', 'Bathroom', 'floors',\n",
       "                                  'balconies', 'Covered Area', 'Carpet Area',\n",
       "                                  'bedroom']),\n",
       "                                ('categorical',\n",
       "                                 Pipeline(steps=[('imputer',\n",
       "                                                  SimpleImputer(strategy='most_frequent')),\n",
       "                                                 ('OneH...\n",
       "                                  'Rain Water Harvesting', 'Club House',\n",
       "                                  'Swimming Pool', 'Gymnasium', 'Park',\n",
       "                                  'Parking.1', 'Security', 'Water Storage',\n",
       "                                  'Private Terrace/Garden', 'Vaastu Compliant',\n",
       "                                  'Service/Goods Lift', 'Air Conditioned',\n",
       "                                  'Visitor Parking', 'Intercom Facility',\n",
       "                                  'Maintenance Staff', 'Waste Disposal',\n",
       "                                  'Laundry Service',\n",
       "                                  'Internet/Wi-Fi Connectivity',\n",
       "                                  'DTH Television Facility', 'RO Water System',\n",
       "                                  'Banquet Hall', 'Bar/Lounge', ...])])"
      ]
     },
     "execution_count": 142,
     "metadata": {},
     "output_type": "execute_result"
    }
   ],
   "source": [
    "preprocessor.fit(X_train)"
   ]
  },
  {
   "cell_type": "code",
   "execution_count": 144,
   "id": "ab97de8d-8366-48be-bee1-46c6ea11ceef",
   "metadata": {},
   "outputs": [
    {
     "data": {
      "text/plain": [
       "array(['Possession Status_Ready to Move',\n",
       "       'Possession Status_Under Construction',\n",
       "       'Ownership Type_Co-operative Society', 'Ownership Type_Freehold',\n",
       "       'Ownership Type_Leasehold', 'Ownership Type_Power Of Attorney',\n",
       "       'furnished Type_Furnished', 'furnished Type_Semi-Furnished',\n",
       "       'furnished Type_Unfurnished', 'Facing_East', 'Facing_North',\n",
       "       'Facing_North - East', 'Facing_North - West', 'Facing_South',\n",
       "       'Facing_South - East', 'Facing_South -West', 'Facing_West',\n",
       "       'Property Lifespan_10 to 15 years',\n",
       "       'Property Lifespan_15 to 20 years',\n",
       "       'Property Lifespan_5 to 10 years',\n",
       "       'Property Lifespan_Above 20 years',\n",
       "       'Property Lifespan_Less than 5 years',\n",
       "       'Property Lifespan_New Construction',\n",
       "       'Transaction Type_New Property', 'Transaction Type_Rent',\n",
       "       'Transaction Type_Rent/Lease', 'Transaction Type_Resale',\n",
       "       'Type of Property_Apartment',\n",
       "       'Type of Property_Builder Floor Apartment',\n",
       "       'Type of Property_Penthouse', 'Type of Property_Residential House',\n",
       "       'Type of Property_Villa'], dtype=object)"
      ]
     },
     "execution_count": 144,
     "metadata": {},
     "output_type": "execute_result"
    }
   ],
   "source": [
    "onehot_cols = (\n",
    "    preprocessor\n",
    "    .named_transformers_[\"categorical\"]\n",
    "    .named_steps[\"OneHot\"]\n",
    "    .get_feature_names_out(categorical_features)\n",
    ")\n",
    "onehot_cols"
   ]
  },
  {
   "cell_type": "code",
   "execution_count": 146,
   "id": "93e6c764-c19a-468d-8e52-460e21a5a821",
   "metadata": {},
   "outputs": [
    {
     "data": {
      "text/plain": [
       "array(['Commercial_Y', 'Society_Y', '24H Water_1.0',\n",
       "       'isPrimeLocationProperty_Y', 'Commercial_Y', '24H Elec_1.0',\n",
       "       'Power Back Up_1', 'Lift_1', 'Rain Water Harvesting_1',\n",
       "       'Club House_1', 'Swimming Pool_1', 'Gymnasium_1', 'Park_1',\n",
       "       'Parking.1_1', 'Security_1', 'Water Storage_1',\n",
       "       'Private Terrace/Garden_1', 'Vaastu Compliant_1',\n",
       "       'Service/Goods Lift_1', 'Air Conditioned_1', 'Visitor Parking_1',\n",
       "       'Intercom Facility_1', 'Maintenance Staff_1', 'Waste Disposal_1',\n",
       "       'Laundry Service_1', 'Internet/Wi-Fi Connectivity_1',\n",
       "       'DTH Television Facility_1', 'RO Water System_1', 'Banquet Hall_1',\n",
       "       'Bar/Lounge_1', 'Cafeteria/Food Court_1', 'Conference Room_1',\n",
       "       'Piped Gas_1', 'Jogging and Strolling Track_1',\n",
       "       'Outdoor Tennis Courts_1', 'Mansion_1', 'Downtown_1',\n",
       "       'Skyline View_1', 'Wrap Around Balcony_1',\n",
       "       'Island Kitchen Layout_1', 'Full Glass Wall_1',\n",
       "       'House help accommodation_1', 'Concierge Services_1',\n",
       "       'Garden View_1', 'Marble flooring_1', 'Well Furnished_1',\n",
       "       'Modular Kitchen_1', 'Helipad_1', 'Private pool _1',\n",
       "       'Private Jaccuzi_1', 'Mini Cinema Theatre_1', 'Golf Course_1',\n",
       "       'Infinity Swimming Pool_1', 'Pool with temperature control _1',\n",
       "       'Sea facing_1', 'Skydeck_1', 'Earth quake resistant_1',\n",
       "       'Theme based Architectures_1',\n",
       "       'Health club with Steam / Jaccuzi_1', 'Large Clubhouse _1',\n",
       "       'Large Open space_1', 'Fingerprint Access_1',\n",
       "       'Grand Entrance lobby_1', 'Private Garage_1', 'Fireplace_1',\n",
       "       'Wine Cellar_1', 'Sky Villa_1', 'Water Front_1', 'Hilltop_1',\n",
       "       'Smart Home_1', 'Barbeque space_1', 'Kids play area_1',\n",
       "       'Library_1', 'Puja Room_1', 'Study_1', 'Servant Room_1', 'Store_1',\n",
       "       'Aerobics Room_1', 'Canopy Walk_1',\n",
       "       'Coffee Lounge & Restaurants_1', 'Dance Studio_1',\n",
       "       'Event Space & Amphitheatre_1', 'Flower Gardens_1',\n",
       "       'Guest Accommodation_1', 'Indoor Squash & Badminton Courts_1',\n",
       "       'Kids Play Area_1', 'Kids Play Pool With Water Slides_1',\n",
       "       'Library And Business Centre_1', 'Meditation Area_1',\n",
       "       'Multipurpose Courts_1', 'Recreational Pool_1',\n",
       "       'Rentable CommuniPfty Space_1',\n",
       "       'Retail Boulevard (Retail Shops)_1', 'Cycling & Jogging Track_1',\n",
       "       'Fire Fighting Equipment_1',\n",
       "       'Aesthetically designed landscape garden_1'], dtype=object)"
      ]
     },
     "execution_count": 146,
     "metadata": {},
     "output_type": "execute_result"
    }
   ],
   "source": [
    "onehot_cols_bin = (\n",
    "    preprocessor\n",
    "    .named_transformers_[\"categorical_bin\"]\n",
    "    .named_steps[\"OneHotBinary\"]\n",
    "    .get_feature_names_out(categorical_features_bin)\n",
    ")\n",
    "onehot_cols_bin"
   ]
  },
  {
   "cell_type": "code",
   "execution_count": 150,
   "id": "63c8a6b8-6a9e-411a-9526-86d3301a88a7",
   "metadata": {},
   "outputs": [],
   "source": [
    "from sklearn.feature_selection import RFE\n",
    "from sklearn.pipeline import make_pipeline"
   ]
  },
  {
   "cell_type": "code",
   "execution_count": 158,
   "id": "fc187739-a6ca-4440-b1d6-7826d4a3b80c",
   "metadata": {},
   "outputs": [
    {
     "name": "stdout",
     "output_type": "stream",
     "text": [
      "Fitting estimator with 136 features.\n",
      "Fitting estimator with 86 features.\n",
      "Fitting estimator with 137 features.\n",
      "Fitting estimator with 87 features.\n",
      "Fitting estimator with 137 features.\n",
      "Fitting estimator with 87 features.\n",
      "Fitting estimator with 137 features.\n",
      "Fitting estimator with 87 features.\n",
      "Fitting estimator with 137 features.\n",
      "Fitting estimator with 87 features.\n"
     ]
    },
    {
     "data": {
      "text/html": [
       "<div>\n",
       "<style scoped>\n",
       "    .dataframe tbody tr th:only-of-type {\n",
       "        vertical-align: middle;\n",
       "    }\n",
       "\n",
       "    .dataframe tbody tr th {\n",
       "        vertical-align: top;\n",
       "    }\n",
       "\n",
       "    .dataframe thead th {\n",
       "        text-align: right;\n",
       "    }\n",
       "</style>\n",
       "<table border=\"1\" class=\"dataframe\">\n",
       "  <thead>\n",
       "    <tr style=\"text-align: right;\">\n",
       "      <th></th>\n",
       "      <th>fit_time</th>\n",
       "      <th>score_time</th>\n",
       "      <th>test_score</th>\n",
       "      <th>train_score</th>\n",
       "    </tr>\n",
       "  </thead>\n",
       "  <tbody>\n",
       "    <tr>\n",
       "      <th>0</th>\n",
       "      <td>211.490633</td>\n",
       "      <td>0.060094</td>\n",
       "      <td>0.065717</td>\n",
       "      <td>0.277481</td>\n",
       "    </tr>\n",
       "    <tr>\n",
       "      <th>1</th>\n",
       "      <td>211.836640</td>\n",
       "      <td>0.045390</td>\n",
       "      <td>0.063341</td>\n",
       "      <td>0.260646</td>\n",
       "    </tr>\n",
       "    <tr>\n",
       "      <th>2</th>\n",
       "      <td>263.235635</td>\n",
       "      <td>0.068678</td>\n",
       "      <td>0.061014</td>\n",
       "      <td>0.268911</td>\n",
       "    </tr>\n",
       "    <tr>\n",
       "      <th>3</th>\n",
       "      <td>259.261157</td>\n",
       "      <td>0.054690</td>\n",
       "      <td>0.064976</td>\n",
       "      <td>0.270099</td>\n",
       "    </tr>\n",
       "    <tr>\n",
       "      <th>4</th>\n",
       "      <td>250.062584</td>\n",
       "      <td>0.041479</td>\n",
       "      <td>0.057052</td>\n",
       "      <td>0.286535</td>\n",
       "    </tr>\n",
       "  </tbody>\n",
       "</table>\n",
       "</div>"
      ],
      "text/plain": [
       "     fit_time  score_time  test_score  train_score\n",
       "0  211.490633    0.060094    0.065717     0.277481\n",
       "1  211.836640    0.045390    0.063341     0.260646\n",
       "2  263.235635    0.068678    0.061014     0.268911\n",
       "3  259.261157    0.054690    0.064976     0.270099\n",
       "4  250.062584    0.041479    0.057052     0.286535"
      ]
     },
     "execution_count": 158,
     "metadata": {},
     "output_type": "execute_result"
    }
   ],
   "source": [
    "main_pipe = make_pipeline(\n",
    "    preprocessor,\n",
    "    RFE(LogisticRegression(max_iter=1000), n_features_to_select=60, step=10, verbose=1)\n",
    ")\n",
    "\n",
    "scores = cross_validate(main_pipe, X_train, y_train, return_train_score=True)\n",
    "\n",
    "pd.DataFrame(scores)"
   ]
  },
  {
   "cell_type": "code",
   "execution_count": 155,
   "id": "ef051b3f-2380-4d91-9fe2-aa2a0cd646a0",
   "metadata": {},
   "outputs": [
    {
     "ename": "AttributeError",
     "evalue": "'RFE' object has no attribute 'n_features_'",
     "output_type": "error",
     "traceback": [
      "\u001b[0;31m---------------------------------------------------------------------------\u001b[0m",
      "\u001b[0;31mAttributeError\u001b[0m                            Traceback (most recent call last)",
      "Cell \u001b[0;32mIn[155], line 1\u001b[0m\n\u001b[0;32m----> 1\u001b[0m \u001b[43mmain_pipe\u001b[49m\u001b[38;5;241;43m.\u001b[39;49m\u001b[43mnamed_steps\u001b[49m\u001b[43m[\u001b[49m\u001b[38;5;124;43m\"\u001b[39;49m\u001b[38;5;124;43mrfe\u001b[39;49m\u001b[38;5;124;43m\"\u001b[39;49m\u001b[43m]\u001b[49m\u001b[38;5;241;43m.\u001b[39;49m\u001b[43mn_features_\u001b[49m\n",
      "\u001b[0;31mAttributeError\u001b[0m: 'RFE' object has no attribute 'n_features_'"
     ]
    }
   ],
   "source": []
  },
  {
   "cell_type": "code",
   "execution_count": 156,
   "id": "5d3935d4-fa30-471c-9712-62c5007af406",
   "metadata": {},
   "outputs": [
    {
     "name": "stdout",
     "output_type": "stream",
     "text": [
      "Fitting estimator with 137 features.\n",
      "Fitting estimator with 87 features.\n",
      "Fitting estimator with 37 features.\n"
     ]
    },
    {
     "data": {
      "text/plain": [
       "0.048162230671736375"
      ]
     },
     "execution_count": 156,
     "metadata": {},
     "output_type": "execute_result"
    }
   ],
   "source": [
    "main_pipe.fit(X_train, y_train)\n",
    "main_pipe.score(X_test, y_test)"
   ]
  },
  {
   "cell_type": "code",
   "execution_count": 157,
   "id": "40e6bef7-fb64-4dee-b4d0-bd313dd54cfb",
   "metadata": {},
   "outputs": [
    {
     "data": {
      "text/plain": [
       "30"
      ]
     },
     "execution_count": 157,
     "metadata": {},
     "output_type": "execute_result"
    }
   ],
   "source": [
    "main_pipe.named_steps[\"rfe\"].n_features_"
   ]
  },
  {
   "cell_type": "code",
   "execution_count": null,
   "id": "ddbe6c9e-a318-4d94-8624-f7906340435e",
   "metadata": {},
   "outputs": [],
   "source": []
  }
 ],
 "metadata": {
  "kernelspec": {
   "display_name": "Python 3 (ipykernel)",
   "language": "python",
   "name": "python3"
  },
  "language_info": {
   "codemirror_mode": {
    "name": "ipython",
    "version": 3
   },
   "file_extension": ".py",
   "mimetype": "text/x-python",
   "name": "python",
   "nbconvert_exporter": "python",
   "pygments_lexer": "ipython3",
   "version": "3.11.5"
  }
 },
 "nbformat": 4,
 "nbformat_minor": 5
}
